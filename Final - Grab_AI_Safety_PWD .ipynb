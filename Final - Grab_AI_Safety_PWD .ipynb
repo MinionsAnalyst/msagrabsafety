{
 "cells": [
  {
   "cell_type": "markdown",
   "metadata": {},
   "source": [
    "# GRAB SAFETY CHALLENGE - Programming with Data Project\n",
    "## Step 1 Data Pre-processing"
   ]
  },
  {
   "cell_type": "code",
   "execution_count": 1,
   "metadata": {},
   "outputs": [],
   "source": [
    "#Essential Imports\n",
    "import numpy as np\n",
    "import pandas as pd\n",
    "import os\n",
    "import glob\n",
    "import matplotlib.pyplot as plt\n",
    "import seaborn as sns"
   ]
  },
  {
   "cell_type": "code",
   "execution_count": 54,
   "metadata": {},
   "outputs": [],
   "source": [
    "#Models\n",
    "from sklearn.ensemble import RandomForestClassifier,GradientBoostingClassifier\n",
    "from sklearn.linear_model import LogisticRegression\n",
    "from sklearn.naive_bayes import GaussianNB\n",
    "import xgboost as XGBClassifier\n",
    "import xgboost as xgb\n",
    "from sklearn.neighbors import KNeighborsClassifier\n",
    "\n",
    "#Others\n",
    "from sklearn.preprocessing import MinMaxScaler\n",
    "from sklearn.model_selection import train_test_split\n",
    "from sklearn import metrics\n",
    "from sklearn.metrics import classification_report\n",
    "from sklearn.metrics import confusion_matrix\n",
    "from imblearn.over_sampling import SMOTE"
   ]
  },
  {
   "cell_type": "markdown",
   "metadata": {},
   "source": [
    "#### Next, put all our data files into panda dataframes. There are 10 telematics csv files and 1 label csv file (dangerous trips are labled as 1)"
   ]
  },
  {
   "cell_type": "code",
   "execution_count": 3,
   "metadata": {},
   "outputs": [],
   "source": [
    "df1 = pd.read_csv('C:\\\\Users\\\\sizhao\\\\Documents\\\\safety - Grab\\\\safety\\\\features\\\\part-00000-e6120af0-10c2-4248-97c4-81baf4304e5c-c000.csv')\n",
    "df2 = pd.read_csv('C:\\\\Users\\\\sizhao\\\\Documents\\\\safety - Grab\\\\safety\\\\features\\\\part-00001-e6120af0-10c2-4248-97c4-81baf4304e5c-c000.csv')\n",
    "df3 = pd.read_csv('C:\\\\Users\\\\sizhao\\\\Documents\\\\safety - Grab\\\\safety\\\\features\\\\part-00002-e6120af0-10c2-4248-97c4-81baf4304e5c-c000.csv')\n",
    "df4 = pd.read_csv('C:\\\\Users\\\\sizhao\\\\Documents\\\\safety - Grab\\\\safety\\\\features\\\\part-00003-e6120af0-10c2-4248-97c4-81baf4304e5c-c000.csv')\n",
    "df5 = pd.read_csv('C:\\\\Users\\\\sizhao\\\\Documents\\\\safety - Grab\\\\safety\\\\features\\\\part-00004-e6120af0-10c2-4248-97c4-81baf4304e5c-c000.csv')\n",
    "df6 = pd.read_csv('C:\\\\Users\\\\sizhao\\\\Documents\\\\safety - Grab\\\\safety\\\\features\\\\part-00005-e6120af0-10c2-4248-97c4-81baf4304e5c-c000.csv')\n",
    "df7 = pd.read_csv('C:\\\\Users\\\\sizhao\\\\Documents\\\\safety - Grab\\\\safety\\\\features\\\\part-00006-e6120af0-10c2-4248-97c4-81baf4304e5c-c000.csv')\n",
    "df8 = pd.read_csv('C:\\\\Users\\\\sizhao\\\\Documents\\\\safety - Grab\\\\safety\\\\features\\\\part-00007-e6120af0-10c2-4248-97c4-81baf4304e5c-c000.csv')\n",
    "df9 = pd.read_csv('C:\\\\Users\\\\sizhao\\\\Documents\\\\safety - Grab\\\\safety\\\\features\\\\part-00008-e6120af0-10c2-4248-97c4-81baf4304e5c-c000.csv')\n",
    "df10 = pd.read_csv('C:\\\\Users\\\\sizhao\\\\Documents\\\\safety - Grab\\\\safety\\\\features\\\\part-00009-e6120af0-10c2-4248-97c4-81baf4304e5c-c000.csv')"
   ]
  },
  {
   "cell_type": "code",
   "execution_count": 4,
   "metadata": {},
   "outputs": [],
   "source": [
    "# Combine the 10 telematics csv files\n",
    "train = pd.concat([df1, df2, df3, df4, df5, df6, df7, df8, df9, df10], ignore_index=True)"
   ]
  },
  {
   "cell_type": "code",
   "execution_count": 5,
   "metadata": {},
   "outputs": [],
   "source": [
    "labels = pd.read_csv('C:\\\\Users\\\\sizhao\\\\Documents\\\\safety - Grab\\\\safety\\\\labels\\\\part-00000-e9445087-aa0a-433b-a7f6-7f4c19d78ad6-c000.csv')"
   ]
  },
  {
   "cell_type": "code",
   "execution_count": 6,
   "metadata": {},
   "outputs": [
    {
     "data": {
      "text/html": [
       "<div>\n",
       "<style scoped>\n",
       "    .dataframe tbody tr th:only-of-type {\n",
       "        vertical-align: middle;\n",
       "    }\n",
       "\n",
       "    .dataframe tbody tr th {\n",
       "        vertical-align: top;\n",
       "    }\n",
       "\n",
       "    .dataframe thead th {\n",
       "        text-align: right;\n",
       "    }\n",
       "</style>\n",
       "<table border=\"1\" class=\"dataframe\">\n",
       "  <thead>\n",
       "    <tr style=\"text-align: right;\">\n",
       "      <th></th>\n",
       "      <th>bookingID</th>\n",
       "      <th>Accuracy</th>\n",
       "      <th>Bearing</th>\n",
       "      <th>acceleration_x</th>\n",
       "      <th>acceleration_y</th>\n",
       "      <th>acceleration_z</th>\n",
       "      <th>gyro_x</th>\n",
       "      <th>gyro_y</th>\n",
       "      <th>gyro_z</th>\n",
       "      <th>second</th>\n",
       "      <th>Speed</th>\n",
       "    </tr>\n",
       "  </thead>\n",
       "  <tbody>\n",
       "    <tr>\n",
       "      <th>9763853</th>\n",
       "      <td>996432412675</td>\n",
       "      <td>50.0</td>\n",
       "      <td>55.392185</td>\n",
       "      <td>-0.071777</td>\n",
       "      <td>-9.611584</td>\n",
       "      <td>-0.580350</td>\n",
       "      <td>-0.006011</td>\n",
       "      <td>0.021981</td>\n",
       "      <td>0.009657</td>\n",
       "      <td>1340.0</td>\n",
       "      <td>-1.000000</td>\n",
       "    </tr>\n",
       "    <tr>\n",
       "      <th>3640231</th>\n",
       "      <td>326417514507</td>\n",
       "      <td>3.9</td>\n",
       "      <td>108.000000</td>\n",
       "      <td>0.262848</td>\n",
       "      <td>8.533295</td>\n",
       "      <td>-1.065842</td>\n",
       "      <td>-0.005386</td>\n",
       "      <td>-0.001816</td>\n",
       "      <td>-0.013153</td>\n",
       "      <td>778.0</td>\n",
       "      <td>26.430000</td>\n",
       "    </tr>\n",
       "    <tr>\n",
       "      <th>11071810</th>\n",
       "      <td>1322849927222</td>\n",
       "      <td>3.9</td>\n",
       "      <td>200.000000</td>\n",
       "      <td>1.209109</td>\n",
       "      <td>9.775824</td>\n",
       "      <td>-1.161223</td>\n",
       "      <td>-0.059534</td>\n",
       "      <td>-0.040829</td>\n",
       "      <td>0.015612</td>\n",
       "      <td>591.0</td>\n",
       "      <td>9.072603</td>\n",
       "    </tr>\n",
       "    <tr>\n",
       "      <th>12780796</th>\n",
       "      <td>1443109011529</td>\n",
       "      <td>5.0</td>\n",
       "      <td>150.972092</td>\n",
       "      <td>-0.273950</td>\n",
       "      <td>-10.500577</td>\n",
       "      <td>0.750671</td>\n",
       "      <td>-0.025540</td>\n",
       "      <td>-0.002198</td>\n",
       "      <td>0.000697</td>\n",
       "      <td>1009.0</td>\n",
       "      <td>2.270000</td>\n",
       "    </tr>\n",
       "    <tr>\n",
       "      <th>10512849</th>\n",
       "      <td>249108103270</td>\n",
       "      <td>5.0</td>\n",
       "      <td>45.000000</td>\n",
       "      <td>0.394445</td>\n",
       "      <td>8.865130</td>\n",
       "      <td>-0.888249</td>\n",
       "      <td>0.174171</td>\n",
       "      <td>0.018642</td>\n",
       "      <td>-0.014381</td>\n",
       "      <td>651.0</td>\n",
       "      <td>21.095022</td>\n",
       "    </tr>\n",
       "  </tbody>\n",
       "</table>\n",
       "</div>"
      ],
      "text/plain": [
       "              bookingID  Accuracy     Bearing  acceleration_x  acceleration_y  \\\n",
       "9763853    996432412675      50.0   55.392185       -0.071777       -9.611584   \n",
       "3640231    326417514507       3.9  108.000000        0.262848        8.533295   \n",
       "11071810  1322849927222       3.9  200.000000        1.209109        9.775824   \n",
       "12780796  1443109011529       5.0  150.972092       -0.273950      -10.500577   \n",
       "10512849   249108103270       5.0   45.000000        0.394445        8.865130   \n",
       "\n",
       "          acceleration_z    gyro_x    gyro_y    gyro_z  second      Speed  \n",
       "9763853        -0.580350 -0.006011  0.021981  0.009657  1340.0  -1.000000  \n",
       "3640231        -1.065842 -0.005386 -0.001816 -0.013153   778.0  26.430000  \n",
       "11071810       -1.161223 -0.059534 -0.040829  0.015612   591.0   9.072603  \n",
       "12780796        0.750671 -0.025540 -0.002198  0.000697  1009.0   2.270000  \n",
       "10512849       -0.888249  0.174171  0.018642 -0.014381   651.0  21.095022  "
      ]
     },
     "execution_count": 6,
     "metadata": {},
     "output_type": "execute_result"
    }
   ],
   "source": [
    "# Take a look of how our sample looks like\n",
    "np.random.seed(888)\n",
    "train.sample(5)"
   ]
  },
  {
   "cell_type": "code",
   "execution_count": 7,
   "metadata": {},
   "outputs": [
    {
     "data": {
      "text/plain": [
       "(16135561, 11)"
      ]
     },
     "execution_count": 7,
     "metadata": {},
     "output_type": "execute_result"
    }
   ],
   "source": [
    "train.shape"
   ]
  },
  {
   "cell_type": "code",
   "execution_count": 8,
   "metadata": {},
   "outputs": [
    {
     "data": {
      "text/html": [
       "<div>\n",
       "<style scoped>\n",
       "    .dataframe tbody tr th:only-of-type {\n",
       "        vertical-align: middle;\n",
       "    }\n",
       "\n",
       "    .dataframe tbody tr th {\n",
       "        vertical-align: top;\n",
       "    }\n",
       "\n",
       "    .dataframe thead th {\n",
       "        text-align: right;\n",
       "    }\n",
       "</style>\n",
       "<table border=\"1\" class=\"dataframe\">\n",
       "  <thead>\n",
       "    <tr style=\"text-align: right;\">\n",
       "      <th></th>\n",
       "      <th>bookingID</th>\n",
       "      <th>label</th>\n",
       "    </tr>\n",
       "  </thead>\n",
       "  <tbody>\n",
       "    <tr>\n",
       "      <th>9138</th>\n",
       "      <td>1099511627822</td>\n",
       "      <td>0</td>\n",
       "    </tr>\n",
       "    <tr>\n",
       "      <th>18351</th>\n",
       "      <td>1357209665609</td>\n",
       "      <td>0</td>\n",
       "    </tr>\n",
       "    <tr>\n",
       "      <th>2480</th>\n",
       "      <td>317827579997</td>\n",
       "      <td>0</td>\n",
       "    </tr>\n",
       "    <tr>\n",
       "      <th>918</th>\n",
       "      <td>283467841675</td>\n",
       "      <td>1</td>\n",
       "    </tr>\n",
       "    <tr>\n",
       "      <th>4509</th>\n",
       "      <td>1443109011504</td>\n",
       "      <td>0</td>\n",
       "    </tr>\n",
       "  </tbody>\n",
       "</table>\n",
       "</div>"
      ],
      "text/plain": [
       "           bookingID  label\n",
       "9138   1099511627822      0\n",
       "18351  1357209665609      0\n",
       "2480    317827579997      0\n",
       "918     283467841675      1\n",
       "4509   1443109011504      0"
      ]
     },
     "execution_count": 8,
     "metadata": {},
     "output_type": "execute_result"
    }
   ],
   "source": [
    "np.random.seed(888)\n",
    "labels.sample(5)"
   ]
  },
  {
   "cell_type": "code",
   "execution_count": 9,
   "metadata": {},
   "outputs": [
    {
     "data": {
      "text/plain": [
       "(20018, 2)"
      ]
     },
     "execution_count": 9,
     "metadata": {},
     "output_type": "execute_result"
    }
   ],
   "source": [
    "labels.shape"
   ]
  },
  {
   "cell_type": "markdown",
   "metadata": {},
   "source": [
    "## Step 2 Data Cleaning\n",
    "#### Identify & remove conflicting trips and it observations (Being labeled 0 & 1 at the same time)"
   ]
  },
  {
   "cell_type": "code",
   "execution_count": 10,
   "metadata": {},
   "outputs": [
    {
     "name": "stdout",
     "output_type": "stream",
     "text": [
      "0\n",
      "0\n"
     ]
    }
   ],
   "source": [
    "# check if there are any empty values\n",
    "print(train.isnull().sum().sum())\n",
    "print(labels.isnull().sum().sum())"
   ]
  },
  {
   "cell_type": "code",
   "execution_count": 11,
   "metadata": {},
   "outputs": [
    {
     "data": {
      "text/plain": [
       "20000"
      ]
     },
     "execution_count": 11,
     "metadata": {},
     "output_type": "execute_result"
    }
   ],
   "source": [
    "len(train.groupby('bookingID'))\n",
    "# seems like there are 18 extra booking IDs in the labels info set relative to the train data set"
   ]
  },
  {
   "cell_type": "code",
   "execution_count": 12,
   "metadata": {},
   "outputs": [
    {
     "name": "stdout",
     "output_type": "stream",
     "text": [
      "col_0          count\n",
      "bookingID           \n",
      "13                 2\n",
      "154618822837       2\n",
      "223338299461       2\n",
      "395136991308       2\n",
      "403726925929       2\n",
      "455266533495       2\n",
      "481036337234       2\n",
      "515396075694       2\n",
      "695784702084       2\n",
      "919123001348       2\n",
      "970662608932       2\n",
      "1279900254294      2\n",
      "1348619731077      2\n",
      "1391569403991      2\n",
      "1408749273124      2\n",
      "1511828488211      2\n",
      "1632087572573      2\n",
      "1649267441751      2\n",
      "\n",
      "\n",
      "(19982, 2)\n",
      "\n",
      "           bookingID  label\n",
      "15267   592705487018      1\n",
      "2837   1606317768839      0\n",
      "1026   1477468749847      1\n",
      "3121   1065151889414      0\n",
      "4048    755914244103      0\n"
     ]
    }
   ],
   "source": [
    "# Find booking IDs that appear >1 and put them into a temp variable\n",
    "temp = pd.crosstab(index = labels['bookingID'], columns = 'count')# crosstab creates a table of 2 variables that you specify. \n",
    "temp = temp[temp['count']!=1] # != means not equal to 1. We find a list of variables in temp that are not equal to 1.\n",
    "print(temp)\n",
    "print()\n",
    "\n",
    "#Dropping bookingIDs with multiple labels and put them into new variable called new_labels\n",
    "drop = temp.index.values\n",
    "new_labels = labels[~labels['bookingID'].isin(drop)] # include all data in new_label except for those with duplicate booking IDs\n",
    "print()\n",
    "print(new_labels.shape)\n",
    "print()\n",
    "np.random.seed(888)\n",
    "print(new_labels.sample(5))"
   ]
  },
  {
   "cell_type": "markdown",
   "metadata": {},
   "source": [
    "## Step 3 Exploratory Data Analysis"
   ]
  },
  {
   "cell_type": "code",
   "execution_count": 13,
   "metadata": {},
   "outputs": [
    {
     "data": {
      "image/png": "[encoded data removed]",
      "text/plain": [
       "<Figure size 432x288 with 1 Axes>"
      ]
     },
     "metadata": {
      "needs_background": "light"
     },
     "output_type": "display_data"
    }
   ],
   "source": [
    "# Let's view the distribution of Labels \n",
    "new_labels.hist(['label'],color='maroon',bins=10)\n",
    "plt.show()"
   ]
  },
  {
   "cell_type": "code",
   "execution_count": 14,
   "metadata": {},
   "outputs": [
    {
     "data": {
      "text/plain": [
       "0    14999\n",
       "1     4983\n",
       "Name: label, dtype: int64"
      ]
     },
     "execution_count": 14,
     "metadata": {},
     "output_type": "execute_result"
    }
   ],
   "source": [
    "# check number of trips labeled as dangerous\n",
    "new_labels.label.value_counts()"
   ]
  },
  {
   "cell_type": "code",
   "execution_count": 15,
   "metadata": {},
   "outputs": [
    {
     "data": {
      "image/png": "[encoded data removed]",
      "text/plain": [
       "<Figure size 1440x1080 with 12 Axes>"
      ]
     },
     "metadata": {
      "needs_background": "light"
     },
     "output_type": "display_data"
    }
   ],
   "source": [
    "#Checking Distribution of the train set\n",
    "train.hist(bins=20, figsize=(20,15),color='maroon')\n",
    "plt.show()"
   ]
  },
  {
   "cell_type": "code",
   "execution_count": 16,
   "metadata": {},
   "outputs": [
    {
     "data": {
      "image/png": "[encoded data removed]",
      "text/plain": [
       "<Figure size 432x288 with 1 Axes>"
      ]
     },
     "metadata": {
      "needs_background": "light"
     },
     "output_type": "display_data"
    }
   ],
   "source": [
    "train.hist(['Accuracy'],color='maroon', bins=20)\n",
    "plt.xlim(0,1800)\n",
    "plt.show()"
   ]
  },
  {
   "cell_type": "code",
   "execution_count": 17,
   "metadata": {},
   "outputs": [
    {
     "data": {
      "image/png": "[encoded data removed]",
      "text/plain": [
       "<Figure size 432x288 with 1 Axes>"
      ]
     },
     "metadata": {
      "needs_background": "light"
     },
     "output_type": "display_data"
    }
   ],
   "source": [
    "train.hist(['Speed'],color='maroon', bins=20)\n",
    "plt.xlim(-10,50)\n",
    "plt.show()"
   ]
  },
  {
   "cell_type": "code",
   "execution_count": 18,
   "metadata": {},
   "outputs": [
    {
     "data": {
      "image/png": "[encoded data removed]",
      "text/plain": [
       "<Figure size 936x936 with 2 Axes>"
      ]
     },
     "metadata": {
      "needs_background": "light"
     },
     "output_type": "display_data"
    }
   ],
   "source": [
    "# Check correlation between the features\n",
    "temp2 = pd.merge(train,new_labels,on=\"bookingID\", how = 'inner')\n",
    "\n",
    "corrmat = temp2.corr()\n",
    "fig = plt.figure(figsize = (13, 13))\n",
    "\n",
    "sns.heatmap(corrmat, vmax = .33, vmin=-0.23, square = True)\n",
    "plt.show()"
   ]
  },
  {
   "cell_type": "code",
   "execution_count": 19,
   "metadata": {},
   "outputs": [
    {
     "data": {
      "text/html": [
       "<div>\n",
       "<style scoped>\n",
       "    .dataframe tbody tr th:only-of-type {\n",
       "        vertical-align: middle;\n",
       "    }\n",
       "\n",
       "    .dataframe tbody tr th {\n",
       "        vertical-align: top;\n",
       "    }\n",
       "\n",
       "    .dataframe thead th {\n",
       "        text-align: right;\n",
       "    }\n",
       "</style>\n",
       "<table border=\"1\" class=\"dataframe\">\n",
       "  <thead>\n",
       "    <tr style=\"text-align: right;\">\n",
       "      <th></th>\n",
       "      <th>bookingID</th>\n",
       "      <th>Accuracy</th>\n",
       "      <th>Bearing</th>\n",
       "      <th>acceleration_x</th>\n",
       "      <th>acceleration_y</th>\n",
       "      <th>acceleration_z</th>\n",
       "      <th>gyro_x</th>\n",
       "      <th>gyro_y</th>\n",
       "      <th>gyro_z</th>\n",
       "      <th>second</th>\n",
       "      <th>Speed</th>\n",
       "      <th>label</th>\n",
       "    </tr>\n",
       "  </thead>\n",
       "  <tbody>\n",
       "    <tr>\n",
       "      <th>41650</th>\n",
       "      <td>88</td>\n",
       "      <td>10.0</td>\n",
       "      <td>20.475615</td>\n",
       "      <td>-0.524722</td>\n",
       "      <td>-8.043997</td>\n",
       "      <td>-5.570221</td>\n",
       "      <td>0.040487</td>\n",
       "      <td>-0.008759</td>\n",
       "      <td>-0.000973</td>\n",
       "      <td>0.0</td>\n",
       "      <td>15.380000</td>\n",
       "      <td>1</td>\n",
       "    </tr>\n",
       "    <tr>\n",
       "      <th>41651</th>\n",
       "      <td>88</td>\n",
       "      <td>10.0</td>\n",
       "      <td>19.443254</td>\n",
       "      <td>-0.117236</td>\n",
       "      <td>-8.392267</td>\n",
       "      <td>-5.579044</td>\n",
       "      <td>0.051186</td>\n",
       "      <td>-0.007709</td>\n",
       "      <td>-0.006278</td>\n",
       "      <td>1.0</td>\n",
       "      <td>15.220000</td>\n",
       "      <td>1</td>\n",
       "    </tr>\n",
       "    <tr>\n",
       "      <th>41652</th>\n",
       "      <td>88</td>\n",
       "      <td>10.0</td>\n",
       "      <td>18.429127</td>\n",
       "      <td>-0.321951</td>\n",
       "      <td>-8.276077</td>\n",
       "      <td>-5.447302</td>\n",
       "      <td>0.064863</td>\n",
       "      <td>-0.025008</td>\n",
       "      <td>0.011863</td>\n",
       "      <td>2.0</td>\n",
       "      <td>15.090000</td>\n",
       "      <td>1</td>\n",
       "    </tr>\n",
       "    <tr>\n",
       "      <th>41653</th>\n",
       "      <td>88</td>\n",
       "      <td>10.0</td>\n",
       "      <td>14.270370</td>\n",
       "      <td>1.575662</td>\n",
       "      <td>-8.030688</td>\n",
       "      <td>-5.268906</td>\n",
       "      <td>0.064947</td>\n",
       "      <td>0.015287</td>\n",
       "      <td>0.041959</td>\n",
       "      <td>3.0</td>\n",
       "      <td>14.600000</td>\n",
       "      <td>1</td>\n",
       "    </tr>\n",
       "    <tr>\n",
       "      <th>41654</th>\n",
       "      <td>88</td>\n",
       "      <td>10.0</td>\n",
       "      <td>9.910966</td>\n",
       "      <td>0.840543</td>\n",
       "      <td>-8.159589</td>\n",
       "      <td>-5.497397</td>\n",
       "      <td>0.010867</td>\n",
       "      <td>0.068960</td>\n",
       "      <td>0.039872</td>\n",
       "      <td>4.0</td>\n",
       "      <td>14.540000</td>\n",
       "      <td>1</td>\n",
       "    </tr>\n",
       "    <tr>\n",
       "      <th>41655</th>\n",
       "      <td>88</td>\n",
       "      <td>10.0</td>\n",
       "      <td>3.485504</td>\n",
       "      <td>0.750522</td>\n",
       "      <td>-8.100223</td>\n",
       "      <td>-7.192838</td>\n",
       "      <td>0.034054</td>\n",
       "      <td>0.038777</td>\n",
       "      <td>0.061196</td>\n",
       "      <td>5.0</td>\n",
       "      <td>14.120000</td>\n",
       "      <td>1</td>\n",
       "    </tr>\n",
       "    <tr>\n",
       "      <th>41656</th>\n",
       "      <td>88</td>\n",
       "      <td>10.0</td>\n",
       "      <td>356.968658</td>\n",
       "      <td>1.218869</td>\n",
       "      <td>-7.003226</td>\n",
       "      <td>-5.627643</td>\n",
       "      <td>0.134009</td>\n",
       "      <td>-0.035219</td>\n",
       "      <td>0.037697</td>\n",
       "      <td>6.0</td>\n",
       "      <td>13.170000</td>\n",
       "      <td>1</td>\n",
       "    </tr>\n",
       "    <tr>\n",
       "      <th>41657</th>\n",
       "      <td>88</td>\n",
       "      <td>10.0</td>\n",
       "      <td>353.886658</td>\n",
       "      <td>-0.038281</td>\n",
       "      <td>-7.832852</td>\n",
       "      <td>-6.186609</td>\n",
       "      <td>0.039472</td>\n",
       "      <td>0.017752</td>\n",
       "      <td>0.019442</td>\n",
       "      <td>7.0</td>\n",
       "      <td>12.220000</td>\n",
       "      <td>1</td>\n",
       "    </tr>\n",
       "    <tr>\n",
       "      <th>41658</th>\n",
       "      <td>88</td>\n",
       "      <td>10.0</td>\n",
       "      <td>351.798828</td>\n",
       "      <td>-0.581097</td>\n",
       "      <td>-8.301498</td>\n",
       "      <td>-7.406226</td>\n",
       "      <td>0.027804</td>\n",
       "      <td>0.025322</td>\n",
       "      <td>0.015161</td>\n",
       "      <td>8.0</td>\n",
       "      <td>11.510000</td>\n",
       "      <td>1</td>\n",
       "    </tr>\n",
       "    <tr>\n",
       "      <th>41659</th>\n",
       "      <td>88</td>\n",
       "      <td>10.0</td>\n",
       "      <td>351.798828</td>\n",
       "      <td>-2.193097</td>\n",
       "      <td>-8.060596</td>\n",
       "      <td>-5.526556</td>\n",
       "      <td>0.070986</td>\n",
       "      <td>-0.108984</td>\n",
       "      <td>-0.030154</td>\n",
       "      <td>9.0</td>\n",
       "      <td>9.990000</td>\n",
       "      <td>1</td>\n",
       "    </tr>\n",
       "    <tr>\n",
       "      <th>41660</th>\n",
       "      <td>88</td>\n",
       "      <td>10.0</td>\n",
       "      <td>3.120900</td>\n",
       "      <td>-2.189209</td>\n",
       "      <td>-8.337537</td>\n",
       "      <td>-5.012152</td>\n",
       "      <td>0.037134</td>\n",
       "      <td>-0.112555</td>\n",
       "      <td>-0.091200</td>\n",
       "      <td>10.0</td>\n",
       "      <td>8.580000</td>\n",
       "      <td>1</td>\n",
       "    </tr>\n",
       "    <tr>\n",
       "      <th>41661</th>\n",
       "      <td>88</td>\n",
       "      <td>10.0</td>\n",
       "      <td>13.570656</td>\n",
       "      <td>-1.874435</td>\n",
       "      <td>-8.107999</td>\n",
       "      <td>-6.191245</td>\n",
       "      <td>0.016790</td>\n",
       "      <td>-0.118910</td>\n",
       "      <td>-0.082744</td>\n",
       "      <td>11.0</td>\n",
       "      <td>8.230000</td>\n",
       "      <td>1</td>\n",
       "    </tr>\n",
       "    <tr>\n",
       "      <th>41662</th>\n",
       "      <td>88</td>\n",
       "      <td>10.0</td>\n",
       "      <td>15.698444</td>\n",
       "      <td>-0.796280</td>\n",
       "      <td>-7.758383</td>\n",
       "      <td>-6.986627</td>\n",
       "      <td>0.017867</td>\n",
       "      <td>-0.005825</td>\n",
       "      <td>0.047060</td>\n",
       "      <td>12.0</td>\n",
       "      <td>7.390000</td>\n",
       "      <td>1</td>\n",
       "    </tr>\n",
       "    <tr>\n",
       "      <th>41663</th>\n",
       "      <td>88</td>\n",
       "      <td>10.0</td>\n",
       "      <td>14.602113</td>\n",
       "      <td>-0.885852</td>\n",
       "      <td>-6.990366</td>\n",
       "      <td>-6.776529</td>\n",
       "      <td>0.005233</td>\n",
       "      <td>-0.020275</td>\n",
       "      <td>-0.003275</td>\n",
       "      <td>13.0</td>\n",
       "      <td>5.780000</td>\n",
       "      <td>1</td>\n",
       "    </tr>\n",
       "    <tr>\n",
       "      <th>41664</th>\n",
       "      <td>88</td>\n",
       "      <td>10.0</td>\n",
       "      <td>13.599797</td>\n",
       "      <td>-1.150381</td>\n",
       "      <td>-7.710980</td>\n",
       "      <td>-6.329266</td>\n",
       "      <td>-0.004325</td>\n",
       "      <td>0.007326</td>\n",
       "      <td>0.020324</td>\n",
       "      <td>14.0</td>\n",
       "      <td>3.890000</td>\n",
       "      <td>1</td>\n",
       "    </tr>\n",
       "    <tr>\n",
       "      <th>41665</th>\n",
       "      <td>88</td>\n",
       "      <td>10.0</td>\n",
       "      <td>13.599797</td>\n",
       "      <td>-0.712241</td>\n",
       "      <td>-7.223193</td>\n",
       "      <td>-6.166422</td>\n",
       "      <td>0.006298</td>\n",
       "      <td>-0.000204</td>\n",
       "      <td>0.020327</td>\n",
       "      <td>15.0</td>\n",
       "      <td>3.890000</td>\n",
       "      <td>1</td>\n",
       "    </tr>\n",
       "    <tr>\n",
       "      <th>41666</th>\n",
       "      <td>88</td>\n",
       "      <td>10.0</td>\n",
       "      <td>13.599797</td>\n",
       "      <td>-0.551041</td>\n",
       "      <td>-7.446451</td>\n",
       "      <td>-5.495453</td>\n",
       "      <td>0.020126</td>\n",
       "      <td>-0.008801</td>\n",
       "      <td>0.018198</td>\n",
       "      <td>16.0</td>\n",
       "      <td>3.890000</td>\n",
       "      <td>1</td>\n",
       "    </tr>\n",
       "    <tr>\n",
       "      <th>41667</th>\n",
       "      <td>88</td>\n",
       "      <td>10.0</td>\n",
       "      <td>12.597603</td>\n",
       "      <td>-0.846524</td>\n",
       "      <td>-8.359967</td>\n",
       "      <td>-5.494257</td>\n",
       "      <td>0.027607</td>\n",
       "      <td>-0.023613</td>\n",
       "      <td>-0.002147</td>\n",
       "      <td>17.0</td>\n",
       "      <td>3.890000</td>\n",
       "      <td>1</td>\n",
       "    </tr>\n",
       "    <tr>\n",
       "      <th>41668</th>\n",
       "      <td>88</td>\n",
       "      <td>10.0</td>\n",
       "      <td>12.597603</td>\n",
       "      <td>-0.693997</td>\n",
       "      <td>-7.704999</td>\n",
       "      <td>-5.078696</td>\n",
       "      <td>-0.003248</td>\n",
       "      <td>-0.000061</td>\n",
       "      <td>0.009608</td>\n",
       "      <td>18.0</td>\n",
       "      <td>3.890000</td>\n",
       "      <td>1</td>\n",
       "    </tr>\n",
       "    <tr>\n",
       "      <th>41669</th>\n",
       "      <td>88</td>\n",
       "      <td>10.0</td>\n",
       "      <td>12.597603</td>\n",
       "      <td>-0.640314</td>\n",
       "      <td>-8.264713</td>\n",
       "      <td>-5.036975</td>\n",
       "      <td>0.027612</td>\n",
       "      <td>-0.024662</td>\n",
       "      <td>-0.004289</td>\n",
       "      <td>19.0</td>\n",
       "      <td>3.890000</td>\n",
       "      <td>1</td>\n",
       "    </tr>\n",
       "    <tr>\n",
       "      <th>41670</th>\n",
       "      <td>88</td>\n",
       "      <td>10.0</td>\n",
       "      <td>12.597603</td>\n",
       "      <td>-0.625510</td>\n",
       "      <td>-8.141495</td>\n",
       "      <td>-4.982993</td>\n",
       "      <td>0.024396</td>\n",
       "      <td>-0.018330</td>\n",
       "      <td>0.006415</td>\n",
       "      <td>20.0</td>\n",
       "      <td>3.890000</td>\n",
       "      <td>1</td>\n",
       "    </tr>\n",
       "    <tr>\n",
       "      <th>41671</th>\n",
       "      <td>88</td>\n",
       "      <td>10.0</td>\n",
       "      <td>12.597603</td>\n",
       "      <td>-0.719568</td>\n",
       "      <td>-7.968481</td>\n",
       "      <td>-5.277579</td>\n",
       "      <td>0.000043</td>\n",
       "      <td>0.014866</td>\n",
       "      <td>0.008613</td>\n",
       "      <td>21.0</td>\n",
       "      <td>3.890000</td>\n",
       "      <td>1</td>\n",
       "    </tr>\n",
       "    <tr>\n",
       "      <th>41672</th>\n",
       "      <td>88</td>\n",
       "      <td>10.0</td>\n",
       "      <td>11.594396</td>\n",
       "      <td>-0.686969</td>\n",
       "      <td>-7.975061</td>\n",
       "      <td>-5.292084</td>\n",
       "      <td>0.007388</td>\n",
       "      <td>-0.005456</td>\n",
       "      <td>0.009620</td>\n",
       "      <td>22.0</td>\n",
       "      <td>3.890000</td>\n",
       "      <td>1</td>\n",
       "    </tr>\n",
       "    <tr>\n",
       "      <th>41673</th>\n",
       "      <td>88</td>\n",
       "      <td>10.0</td>\n",
       "      <td>11.594396</td>\n",
       "      <td>-0.925330</td>\n",
       "      <td>-8.219852</td>\n",
       "      <td>-5.166772</td>\n",
       "      <td>0.008458</td>\n",
       "      <td>-0.007570</td>\n",
       "      <td>0.006408</td>\n",
       "      <td>23.0</td>\n",
       "      <td>3.890000</td>\n",
       "      <td>1</td>\n",
       "    </tr>\n",
       "    <tr>\n",
       "      <th>41674</th>\n",
       "      <td>88</td>\n",
       "      <td>10.0</td>\n",
       "      <td>11.594396</td>\n",
       "      <td>-0.519040</td>\n",
       "      <td>-7.920331</td>\n",
       "      <td>-5.095294</td>\n",
       "      <td>0.015995</td>\n",
       "      <td>0.008355</td>\n",
       "      <td>0.010775</td>\n",
       "      <td>24.0</td>\n",
       "      <td>3.890000</td>\n",
       "      <td>1</td>\n",
       "    </tr>\n",
       "    <tr>\n",
       "      <th>41675</th>\n",
       "      <td>88</td>\n",
       "      <td>10.0</td>\n",
       "      <td>11.594396</td>\n",
       "      <td>-0.740503</td>\n",
       "      <td>-8.566776</td>\n",
       "      <td>-5.116678</td>\n",
       "      <td>0.023320</td>\n",
       "      <td>-0.023623</td>\n",
       "      <td>0.002114</td>\n",
       "      <td>25.0</td>\n",
       "      <td>3.890000</td>\n",
       "      <td>1</td>\n",
       "    </tr>\n",
       "    <tr>\n",
       "      <th>41676</th>\n",
       "      <td>88</td>\n",
       "      <td>10.0</td>\n",
       "      <td>11.594396</td>\n",
       "      <td>-0.915311</td>\n",
       "      <td>-8.356976</td>\n",
       "      <td>-5.310925</td>\n",
       "      <td>0.042521</td>\n",
       "      <td>-0.026899</td>\n",
       "      <td>-0.002112</td>\n",
       "      <td>26.0</td>\n",
       "      <td>3.890000</td>\n",
       "      <td>1</td>\n",
       "    </tr>\n",
       "    <tr>\n",
       "      <th>41677</th>\n",
       "      <td>88</td>\n",
       "      <td>10.0</td>\n",
       "      <td>11.594396</td>\n",
       "      <td>-0.858636</td>\n",
       "      <td>-8.684460</td>\n",
       "      <td>-5.021124</td>\n",
       "      <td>-0.002100</td>\n",
       "      <td>0.015919</td>\n",
       "      <td>0.011817</td>\n",
       "      <td>27.0</td>\n",
       "      <td>3.890000</td>\n",
       "      <td>1</td>\n",
       "    </tr>\n",
       "    <tr>\n",
       "      <th>41678</th>\n",
       "      <td>88</td>\n",
       "      <td>10.0</td>\n",
       "      <td>11.594396</td>\n",
       "      <td>-0.765475</td>\n",
       "      <td>-8.007510</td>\n",
       "      <td>-5.266364</td>\n",
       "      <td>-0.002055</td>\n",
       "      <td>0.019163</td>\n",
       "      <td>0.006487</td>\n",
       "      <td>28.0</td>\n",
       "      <td>3.890000</td>\n",
       "      <td>1</td>\n",
       "    </tr>\n",
       "    <tr>\n",
       "      <th>41679</th>\n",
       "      <td>88</td>\n",
       "      <td>10.0</td>\n",
       "      <td>11.594396</td>\n",
       "      <td>-0.852505</td>\n",
       "      <td>-8.107849</td>\n",
       "      <td>-5.155856</td>\n",
       "      <td>0.020141</td>\n",
       "      <td>-0.017230</td>\n",
       "      <td>0.005337</td>\n",
       "      <td>29.0</td>\n",
       "      <td>3.890000</td>\n",
       "      <td>1</td>\n",
       "    </tr>\n",
       "    <tr>\n",
       "      <th>...</th>\n",
       "      <td>...</td>\n",
       "      <td>...</td>\n",
       "      <td>...</td>\n",
       "      <td>...</td>\n",
       "      <td>...</td>\n",
       "      <td>...</td>\n",
       "      <td>...</td>\n",
       "      <td>...</td>\n",
       "      <td>...</td>\n",
       "      <td>...</td>\n",
       "      <td>...</td>\n",
       "      <td>...</td>\n",
       "    </tr>\n",
       "    <tr>\n",
       "      <th>42535</th>\n",
       "      <td>88</td>\n",
       "      <td>10.0</td>\n",
       "      <td>353.948547</td>\n",
       "      <td>0.119928</td>\n",
       "      <td>-7.651764</td>\n",
       "      <td>-5.403638</td>\n",
       "      <td>0.006359</td>\n",
       "      <td>0.037940</td>\n",
       "      <td>0.052551</td>\n",
       "      <td>885.0</td>\n",
       "      <td>27.059999</td>\n",
       "      <td>1</td>\n",
       "    </tr>\n",
       "    <tr>\n",
       "      <th>42536</th>\n",
       "      <td>88</td>\n",
       "      <td>10.0</td>\n",
       "      <td>353.948547</td>\n",
       "      <td>-0.200977</td>\n",
       "      <td>-7.157697</td>\n",
       "      <td>-5.845816</td>\n",
       "      <td>0.021085</td>\n",
       "      <td>-0.080844</td>\n",
       "      <td>-0.044093</td>\n",
       "      <td>886.0</td>\n",
       "      <td>26.740000</td>\n",
       "      <td>1</td>\n",
       "    </tr>\n",
       "    <tr>\n",
       "      <th>42537</th>\n",
       "      <td>88</td>\n",
       "      <td>10.0</td>\n",
       "      <td>354.950989</td>\n",
       "      <td>-1.323843</td>\n",
       "      <td>-7.504471</td>\n",
       "      <td>-5.187857</td>\n",
       "      <td>-0.004716</td>\n",
       "      <td>-0.073633</td>\n",
       "      <td>0.005017</td>\n",
       "      <td>887.0</td>\n",
       "      <td>26.889999</td>\n",
       "      <td>1</td>\n",
       "    </tr>\n",
       "    <tr>\n",
       "      <th>42538</th>\n",
       "      <td>88</td>\n",
       "      <td>10.0</td>\n",
       "      <td>358.115570</td>\n",
       "      <td>-1.904642</td>\n",
       "      <td>-7.773187</td>\n",
       "      <td>-4.153067</td>\n",
       "      <td>-0.012626</td>\n",
       "      <td>0.024664</td>\n",
       "      <td>-0.006350</td>\n",
       "      <td>888.0</td>\n",
       "      <td>26.990000</td>\n",
       "      <td>1</td>\n",
       "    </tr>\n",
       "    <tr>\n",
       "      <th>42539</th>\n",
       "      <td>88</td>\n",
       "      <td>10.0</td>\n",
       "      <td>0.172279</td>\n",
       "      <td>-0.983649</td>\n",
       "      <td>-7.358823</td>\n",
       "      <td>-7.073807</td>\n",
       "      <td>-0.005650</td>\n",
       "      <td>-0.003662</td>\n",
       "      <td>0.059818</td>\n",
       "      <td>889.0</td>\n",
       "      <td>27.030001</td>\n",
       "      <td>1</td>\n",
       "    </tr>\n",
       "    <tr>\n",
       "      <th>42540</th>\n",
       "      <td>88</td>\n",
       "      <td>10.0</td>\n",
       "      <td>2.254171</td>\n",
       "      <td>-1.010565</td>\n",
       "      <td>-8.025754</td>\n",
       "      <td>-4.875626</td>\n",
       "      <td>0.018908</td>\n",
       "      <td>-0.060825</td>\n",
       "      <td>-0.011952</td>\n",
       "      <td>890.0</td>\n",
       "      <td>27.200001</td>\n",
       "      <td>1</td>\n",
       "    </tr>\n",
       "    <tr>\n",
       "      <th>42541</th>\n",
       "      <td>88</td>\n",
       "      <td>10.0</td>\n",
       "      <td>3.331551</td>\n",
       "      <td>-1.597794</td>\n",
       "      <td>-7.479648</td>\n",
       "      <td>-6.022717</td>\n",
       "      <td>0.025249</td>\n",
       "      <td>-0.074696</td>\n",
       "      <td>-0.016265</td>\n",
       "      <td>891.0</td>\n",
       "      <td>27.290001</td>\n",
       "      <td>1</td>\n",
       "    </tr>\n",
       "    <tr>\n",
       "      <th>42542</th>\n",
       "      <td>88</td>\n",
       "      <td>10.0</td>\n",
       "      <td>4.394912</td>\n",
       "      <td>-1.101782</td>\n",
       "      <td>-8.518027</td>\n",
       "      <td>-6.174048</td>\n",
       "      <td>0.027758</td>\n",
       "      <td>-0.028648</td>\n",
       "      <td>-0.038506</td>\n",
       "      <td>892.0</td>\n",
       "      <td>27.240000</td>\n",
       "      <td>1</td>\n",
       "    </tr>\n",
       "    <tr>\n",
       "      <th>42543</th>\n",
       "      <td>88</td>\n",
       "      <td>10.0</td>\n",
       "      <td>6.440527</td>\n",
       "      <td>-1.318759</td>\n",
       "      <td>-7.577744</td>\n",
       "      <td>-6.401941</td>\n",
       "      <td>-0.041600</td>\n",
       "      <td>-0.045206</td>\n",
       "      <td>-0.052697</td>\n",
       "      <td>893.0</td>\n",
       "      <td>27.450001</td>\n",
       "      <td>1</td>\n",
       "    </tr>\n",
       "    <tr>\n",
       "      <th>42544</th>\n",
       "      <td>88</td>\n",
       "      <td>10.0</td>\n",
       "      <td>9.513131</td>\n",
       "      <td>-0.961368</td>\n",
       "      <td>-8.214618</td>\n",
       "      <td>-5.373431</td>\n",
       "      <td>0.078390</td>\n",
       "      <td>-0.128152</td>\n",
       "      <td>-0.039830</td>\n",
       "      <td>894.0</td>\n",
       "      <td>27.639999</td>\n",
       "      <td>1</td>\n",
       "    </tr>\n",
       "    <tr>\n",
       "      <th>42545</th>\n",
       "      <td>88</td>\n",
       "      <td>10.0</td>\n",
       "      <td>11.574481</td>\n",
       "      <td>-0.959723</td>\n",
       "      <td>-7.540210</td>\n",
       "      <td>-6.169861</td>\n",
       "      <td>-0.025259</td>\n",
       "      <td>0.048261</td>\n",
       "      <td>-0.012704</td>\n",
       "      <td>895.0</td>\n",
       "      <td>26.959999</td>\n",
       "      <td>1</td>\n",
       "    </tr>\n",
       "    <tr>\n",
       "      <th>42546</th>\n",
       "      <td>88</td>\n",
       "      <td>10.0</td>\n",
       "      <td>13.630425</td>\n",
       "      <td>-1.444669</td>\n",
       "      <td>-7.545892</td>\n",
       "      <td>-5.061499</td>\n",
       "      <td>0.031727</td>\n",
       "      <td>-0.055582</td>\n",
       "      <td>-0.009750</td>\n",
       "      <td>896.0</td>\n",
       "      <td>27.190001</td>\n",
       "      <td>1</td>\n",
       "    </tr>\n",
       "    <tr>\n",
       "      <th>42547</th>\n",
       "      <td>88</td>\n",
       "      <td>10.0</td>\n",
       "      <td>15.653368</td>\n",
       "      <td>-1.407584</td>\n",
       "      <td>-8.142990</td>\n",
       "      <td>-5.855984</td>\n",
       "      <td>-0.069940</td>\n",
       "      <td>0.096264</td>\n",
       "      <td>0.019416</td>\n",
       "      <td>897.0</td>\n",
       "      <td>27.049999</td>\n",
       "      <td>1</td>\n",
       "    </tr>\n",
       "    <tr>\n",
       "      <th>42548</th>\n",
       "      <td>88</td>\n",
       "      <td>10.0</td>\n",
       "      <td>16.700571</td>\n",
       "      <td>-1.507175</td>\n",
       "      <td>-9.354681</td>\n",
       "      <td>-7.080984</td>\n",
       "      <td>0.030562</td>\n",
       "      <td>-0.045170</td>\n",
       "      <td>0.022354</td>\n",
       "      <td>898.0</td>\n",
       "      <td>27.430000</td>\n",
       "      <td>1</td>\n",
       "    </tr>\n",
       "    <tr>\n",
       "      <th>42549</th>\n",
       "      <td>88</td>\n",
       "      <td>10.0</td>\n",
       "      <td>18.711863</td>\n",
       "      <td>-0.235519</td>\n",
       "      <td>-6.878064</td>\n",
       "      <td>-5.415750</td>\n",
       "      <td>0.072290</td>\n",
       "      <td>-0.027229</td>\n",
       "      <td>0.017222</td>\n",
       "      <td>899.0</td>\n",
       "      <td>27.570000</td>\n",
       "      <td>1</td>\n",
       "    </tr>\n",
       "    <tr>\n",
       "      <th>42550</th>\n",
       "      <td>88</td>\n",
       "      <td>10.0</td>\n",
       "      <td>20.812454</td>\n",
       "      <td>-0.571228</td>\n",
       "      <td>-7.808478</td>\n",
       "      <td>-5.806039</td>\n",
       "      <td>0.018825</td>\n",
       "      <td>-0.044054</td>\n",
       "      <td>0.024457</td>\n",
       "      <td>900.0</td>\n",
       "      <td>27.559999</td>\n",
       "      <td>1</td>\n",
       "    </tr>\n",
       "    <tr>\n",
       "      <th>42551</th>\n",
       "      <td>88</td>\n",
       "      <td>10.0</td>\n",
       "      <td>23.942133</td>\n",
       "      <td>-0.671866</td>\n",
       "      <td>-6.976758</td>\n",
       "      <td>-4.873981</td>\n",
       "      <td>-0.015950</td>\n",
       "      <td>0.008627</td>\n",
       "      <td>-0.000016</td>\n",
       "      <td>901.0</td>\n",
       "      <td>27.430000</td>\n",
       "      <td>1</td>\n",
       "    </tr>\n",
       "    <tr>\n",
       "      <th>42552</th>\n",
       "      <td>88</td>\n",
       "      <td>10.0</td>\n",
       "      <td>26.027472</td>\n",
       "      <td>-0.671716</td>\n",
       "      <td>-7.972070</td>\n",
       "      <td>-6.599329</td>\n",
       "      <td>0.100626</td>\n",
       "      <td>-0.096846</td>\n",
       "      <td>0.029846</td>\n",
       "      <td>902.0</td>\n",
       "      <td>27.540001</td>\n",
       "      <td>1</td>\n",
       "    </tr>\n",
       "    <tr>\n",
       "      <th>42553</th>\n",
       "      <td>88</td>\n",
       "      <td>10.0</td>\n",
       "      <td>28.102797</td>\n",
       "      <td>-1.331320</td>\n",
       "      <td>-8.332153</td>\n",
       "      <td>-5.759534</td>\n",
       "      <td>0.013638</td>\n",
       "      <td>-0.061747</td>\n",
       "      <td>-0.025867</td>\n",
       "      <td>903.0</td>\n",
       "      <td>26.950001</td>\n",
       "      <td>1</td>\n",
       "    </tr>\n",
       "    <tr>\n",
       "      <th>42554</th>\n",
       "      <td>88</td>\n",
       "      <td>10.0</td>\n",
       "      <td>30.150570</td>\n",
       "      <td>-0.417953</td>\n",
       "      <td>-7.317102</td>\n",
       "      <td>-5.860471</td>\n",
       "      <td>-0.000161</td>\n",
       "      <td>-0.029855</td>\n",
       "      <td>-0.002264</td>\n",
       "      <td>904.0</td>\n",
       "      <td>26.940001</td>\n",
       "      <td>1</td>\n",
       "    </tr>\n",
       "    <tr>\n",
       "      <th>42555</th>\n",
       "      <td>88</td>\n",
       "      <td>10.0</td>\n",
       "      <td>32.244076</td>\n",
       "      <td>-2.029803</td>\n",
       "      <td>-10.908362</td>\n",
       "      <td>-7.119415</td>\n",
       "      <td>0.014260</td>\n",
       "      <td>0.015366</td>\n",
       "      <td>-0.061878</td>\n",
       "      <td>905.0</td>\n",
       "      <td>27.170000</td>\n",
       "      <td>1</td>\n",
       "    </tr>\n",
       "    <tr>\n",
       "      <th>42556</th>\n",
       "      <td>88</td>\n",
       "      <td>10.0</td>\n",
       "      <td>33.248478</td>\n",
       "      <td>-1.197934</td>\n",
       "      <td>-8.078241</td>\n",
       "      <td>-4.392175</td>\n",
       "      <td>0.053841</td>\n",
       "      <td>-0.116416</td>\n",
       "      <td>-0.022760</td>\n",
       "      <td>906.0</td>\n",
       "      <td>27.000000</td>\n",
       "      <td>1</td>\n",
       "    </tr>\n",
       "    <tr>\n",
       "      <th>42557</th>\n",
       "      <td>88</td>\n",
       "      <td>10.0</td>\n",
       "      <td>35.325275</td>\n",
       "      <td>-1.689609</td>\n",
       "      <td>-8.566177</td>\n",
       "      <td>-5.397806</td>\n",
       "      <td>0.038916</td>\n",
       "      <td>-0.134282</td>\n",
       "      <td>-0.045329</td>\n",
       "      <td>907.0</td>\n",
       "      <td>26.879999</td>\n",
       "      <td>1</td>\n",
       "    </tr>\n",
       "    <tr>\n",
       "      <th>42558</th>\n",
       "      <td>88</td>\n",
       "      <td>10.0</td>\n",
       "      <td>36.346596</td>\n",
       "      <td>-0.325989</td>\n",
       "      <td>-8.303442</td>\n",
       "      <td>-4.740744</td>\n",
       "      <td>0.009885</td>\n",
       "      <td>-0.118650</td>\n",
       "      <td>0.019838</td>\n",
       "      <td>908.0</td>\n",
       "      <td>26.410000</td>\n",
       "      <td>1</td>\n",
       "    </tr>\n",
       "    <tr>\n",
       "      <th>42559</th>\n",
       "      <td>88</td>\n",
       "      <td>10.0</td>\n",
       "      <td>39.497013</td>\n",
       "      <td>-1.664636</td>\n",
       "      <td>-8.508456</td>\n",
       "      <td>-5.891125</td>\n",
       "      <td>0.027610</td>\n",
       "      <td>-0.076446</td>\n",
       "      <td>-0.064360</td>\n",
       "      <td>909.0</td>\n",
       "      <td>26.639999</td>\n",
       "      <td>1</td>\n",
       "    </tr>\n",
       "    <tr>\n",
       "      <th>42560</th>\n",
       "      <td>88</td>\n",
       "      <td>10.0</td>\n",
       "      <td>41.616402</td>\n",
       "      <td>-0.920245</td>\n",
       "      <td>-7.730719</td>\n",
       "      <td>-5.645438</td>\n",
       "      <td>0.030358</td>\n",
       "      <td>-0.076153</td>\n",
       "      <td>0.027566</td>\n",
       "      <td>910.0</td>\n",
       "      <td>26.719999</td>\n",
       "      <td>1</td>\n",
       "    </tr>\n",
       "    <tr>\n",
       "      <th>42561</th>\n",
       "      <td>88</td>\n",
       "      <td>10.0</td>\n",
       "      <td>43.671055</td>\n",
       "      <td>-0.670819</td>\n",
       "      <td>-9.061292</td>\n",
       "      <td>-4.656406</td>\n",
       "      <td>0.019103</td>\n",
       "      <td>-0.042539</td>\n",
       "      <td>-0.030043</td>\n",
       "      <td>911.0</td>\n",
       "      <td>26.930000</td>\n",
       "      <td>1</td>\n",
       "    </tr>\n",
       "    <tr>\n",
       "      <th>42562</th>\n",
       "      <td>88</td>\n",
       "      <td>10.0</td>\n",
       "      <td>44.688602</td>\n",
       "      <td>-0.963760</td>\n",
       "      <td>-8.980692</td>\n",
       "      <td>-5.777029</td>\n",
       "      <td>0.048482</td>\n",
       "      <td>-0.115371</td>\n",
       "      <td>-0.016361</td>\n",
       "      <td>912.0</td>\n",
       "      <td>26.920000</td>\n",
       "      <td>1</td>\n",
       "    </tr>\n",
       "    <tr>\n",
       "      <th>42563</th>\n",
       "      <td>88</td>\n",
       "      <td>10.0</td>\n",
       "      <td>46.729805</td>\n",
       "      <td>-0.799420</td>\n",
       "      <td>-7.388281</td>\n",
       "      <td>-4.375726</td>\n",
       "      <td>0.063198</td>\n",
       "      <td>-0.162311</td>\n",
       "      <td>-0.027199</td>\n",
       "      <td>913.0</td>\n",
       "      <td>27.090000</td>\n",
       "      <td>1</td>\n",
       "    </tr>\n",
       "    <tr>\n",
       "      <th>42564</th>\n",
       "      <td>88</td>\n",
       "      <td>10.0</td>\n",
       "      <td>48.762909</td>\n",
       "      <td>-1.457230</td>\n",
       "      <td>-8.496793</td>\n",
       "      <td>-5.644241</td>\n",
       "      <td>0.027414</td>\n",
       "      <td>-0.054578</td>\n",
       "      <td>0.000928</td>\n",
       "      <td>914.0</td>\n",
       "      <td>27.230000</td>\n",
       "      <td>1</td>\n",
       "    </tr>\n",
       "  </tbody>\n",
       "</table>\n",
       "<p>915 rows × 12 columns</p>\n",
       "</div>"
      ],
      "text/plain": [
       "       bookingID  Accuracy     Bearing  acceleration_x  acceleration_y  \\\n",
       "41650         88      10.0   20.475615       -0.524722       -8.043997   \n",
       "41651         88      10.0   19.443254       -0.117236       -8.392267   \n",
       "41652         88      10.0   18.429127       -0.321951       -8.276077   \n",
       "41653         88      10.0   14.270370        1.575662       -8.030688   \n",
       "41654         88      10.0    9.910966        0.840543       -8.159589   \n",
       "41655         88      10.0    3.485504        0.750522       -8.100223   \n",
       "41656         88      10.0  356.968658        1.218869       -7.003226   \n",
       "41657         88      10.0  353.886658       -0.038281       -7.832852   \n",
       "41658         88      10.0  351.798828       -0.581097       -8.301498   \n",
       "41659         88      10.0  351.798828       -2.193097       -8.060596   \n",
       "41660         88      10.0    3.120900       -2.189209       -8.337537   \n",
       "41661         88      10.0   13.570656       -1.874435       -8.107999   \n",
       "41662         88      10.0   15.698444       -0.796280       -7.758383   \n",
       "41663         88      10.0   14.602113       -0.885852       -6.990366   \n",
       "41664         88      10.0   13.599797       -1.150381       -7.710980   \n",
       "41665         88      10.0   13.599797       -0.712241       -7.223193   \n",
       "41666         88      10.0   13.599797       -0.551041       -7.446451   \n",
       "41667         88      10.0   12.597603       -0.846524       -8.359967   \n",
       "41668         88      10.0   12.597603       -0.693997       -7.704999   \n",
       "41669         88      10.0   12.597603       -0.640314       -8.264713   \n",
       "41670         88      10.0   12.597603       -0.625510       -8.141495   \n",
       "41671         88      10.0   12.597603       -0.719568       -7.968481   \n",
       "41672         88      10.0   11.594396       -0.686969       -7.975061   \n",
       "41673         88      10.0   11.594396       -0.925330       -8.219852   \n",
       "41674         88      10.0   11.594396       -0.519040       -7.920331   \n",
       "41675         88      10.0   11.594396       -0.740503       -8.566776   \n",
       "41676         88      10.0   11.594396       -0.915311       -8.356976   \n",
       "41677         88      10.0   11.594396       -0.858636       -8.684460   \n",
       "41678         88      10.0   11.594396       -0.765475       -8.007510   \n",
       "41679         88      10.0   11.594396       -0.852505       -8.107849   \n",
       "...          ...       ...         ...             ...             ...   \n",
       "42535         88      10.0  353.948547        0.119928       -7.651764   \n",
       "42536         88      10.0  353.948547       -0.200977       -7.157697   \n",
       "42537         88      10.0  354.950989       -1.323843       -7.504471   \n",
       "42538         88      10.0  358.115570       -1.904642       -7.773187   \n",
       "42539         88      10.0    0.172279       -0.983649       -7.358823   \n",
       "42540         88      10.0    2.254171       -1.010565       -8.025754   \n",
       "42541         88      10.0    3.331551       -1.597794       -7.479648   \n",
       "42542         88      10.0    4.394912       -1.101782       -8.518027   \n",
       "42543         88      10.0    6.440527       -1.318759       -7.577744   \n",
       "42544         88      10.0    9.513131       -0.961368       -8.214618   \n",
       "42545         88      10.0   11.574481       -0.959723       -7.540210   \n",
       "42546         88      10.0   13.630425       -1.444669       -7.545892   \n",
       "42547         88      10.0   15.653368       -1.407584       -8.142990   \n",
       "42548         88      10.0   16.700571       -1.507175       -9.354681   \n",
       "42549         88      10.0   18.711863       -0.235519       -6.878064   \n",
       "42550         88      10.0   20.812454       -0.571228       -7.808478   \n",
       "42551         88      10.0   23.942133       -0.671866       -6.976758   \n",
       "42552         88      10.0   26.027472       -0.671716       -7.972070   \n",
       "42553         88      10.0   28.102797       -1.331320       -8.332153   \n",
       "42554         88      10.0   30.150570       -0.417953       -7.317102   \n",
       "42555         88      10.0   32.244076       -2.029803      -10.908362   \n",
       "42556         88      10.0   33.248478       -1.197934       -8.078241   \n",
       "42557         88      10.0   35.325275       -1.689609       -8.566177   \n",
       "42558         88      10.0   36.346596       -0.325989       -8.303442   \n",
       "42559         88      10.0   39.497013       -1.664636       -8.508456   \n",
       "42560         88      10.0   41.616402       -0.920245       -7.730719   \n",
       "42561         88      10.0   43.671055       -0.670819       -9.061292   \n",
       "42562         88      10.0   44.688602       -0.963760       -8.980692   \n",
       "42563         88      10.0   46.729805       -0.799420       -7.388281   \n",
       "42564         88      10.0   48.762909       -1.457230       -8.496793   \n",
       "\n",
       "       acceleration_z    gyro_x    gyro_y    gyro_z  second      Speed  label  \n",
       "41650       -5.570221  0.040487 -0.008759 -0.000973     0.0  15.380000      1  \n",
       "41651       -5.579044  0.051186 -0.007709 -0.006278     1.0  15.220000      1  \n",
       "41652       -5.447302  0.064863 -0.025008  0.011863     2.0  15.090000      1  \n",
       "41653       -5.268906  0.064947  0.015287  0.041959     3.0  14.600000      1  \n",
       "41654       -5.497397  0.010867  0.068960  0.039872     4.0  14.540000      1  \n",
       "41655       -7.192838  0.034054  0.038777  0.061196     5.0  14.120000      1  \n",
       "41656       -5.627643  0.134009 -0.035219  0.037697     6.0  13.170000      1  \n",
       "41657       -6.186609  0.039472  0.017752  0.019442     7.0  12.220000      1  \n",
       "41658       -7.406226  0.027804  0.025322  0.015161     8.0  11.510000      1  \n",
       "41659       -5.526556  0.070986 -0.108984 -0.030154     9.0   9.990000      1  \n",
       "41660       -5.012152  0.037134 -0.112555 -0.091200    10.0   8.580000      1  \n",
       "41661       -6.191245  0.016790 -0.118910 -0.082744    11.0   8.230000      1  \n",
       "41662       -6.986627  0.017867 -0.005825  0.047060    12.0   7.390000      1  \n",
       "41663       -6.776529  0.005233 -0.020275 -0.003275    13.0   5.780000      1  \n",
       "41664       -6.329266 -0.004325  0.007326  0.020324    14.0   3.890000      1  \n",
       "41665       -6.166422  0.006298 -0.000204  0.020327    15.0   3.890000      1  \n",
       "41666       -5.495453  0.020126 -0.008801  0.018198    16.0   3.890000      1  \n",
       "41667       -5.494257  0.027607 -0.023613 -0.002147    17.0   3.890000      1  \n",
       "41668       -5.078696 -0.003248 -0.000061  0.009608    18.0   3.890000      1  \n",
       "41669       -5.036975  0.027612 -0.024662 -0.004289    19.0   3.890000      1  \n",
       "41670       -4.982993  0.024396 -0.018330  0.006415    20.0   3.890000      1  \n",
       "41671       -5.277579  0.000043  0.014866  0.008613    21.0   3.890000      1  \n",
       "41672       -5.292084  0.007388 -0.005456  0.009620    22.0   3.890000      1  \n",
       "41673       -5.166772  0.008458 -0.007570  0.006408    23.0   3.890000      1  \n",
       "41674       -5.095294  0.015995  0.008355  0.010775    24.0   3.890000      1  \n",
       "41675       -5.116678  0.023320 -0.023623  0.002114    25.0   3.890000      1  \n",
       "41676       -5.310925  0.042521 -0.026899 -0.002112    26.0   3.890000      1  \n",
       "41677       -5.021124 -0.002100  0.015919  0.011817    27.0   3.890000      1  \n",
       "41678       -5.266364 -0.002055  0.019163  0.006487    28.0   3.890000      1  \n",
       "41679       -5.155856  0.020141 -0.017230  0.005337    29.0   3.890000      1  \n",
       "...               ...       ...       ...       ...     ...        ...    ...  \n",
       "42535       -5.403638  0.006359  0.037940  0.052551   885.0  27.059999      1  \n",
       "42536       -5.845816  0.021085 -0.080844 -0.044093   886.0  26.740000      1  \n",
       "42537       -5.187857 -0.004716 -0.073633  0.005017   887.0  26.889999      1  \n",
       "42538       -4.153067 -0.012626  0.024664 -0.006350   888.0  26.990000      1  \n",
       "42539       -7.073807 -0.005650 -0.003662  0.059818   889.0  27.030001      1  \n",
       "42540       -4.875626  0.018908 -0.060825 -0.011952   890.0  27.200001      1  \n",
       "42541       -6.022717  0.025249 -0.074696 -0.016265   891.0  27.290001      1  \n",
       "42542       -6.174048  0.027758 -0.028648 -0.038506   892.0  27.240000      1  \n",
       "42543       -6.401941 -0.041600 -0.045206 -0.052697   893.0  27.450001      1  \n",
       "42544       -5.373431  0.078390 -0.128152 -0.039830   894.0  27.639999      1  \n",
       "42545       -6.169861 -0.025259  0.048261 -0.012704   895.0  26.959999      1  \n",
       "42546       -5.061499  0.031727 -0.055582 -0.009750   896.0  27.190001      1  \n",
       "42547       -5.855984 -0.069940  0.096264  0.019416   897.0  27.049999      1  \n",
       "42548       -7.080984  0.030562 -0.045170  0.022354   898.0  27.430000      1  \n",
       "42549       -5.415750  0.072290 -0.027229  0.017222   899.0  27.570000      1  \n",
       "42550       -5.806039  0.018825 -0.044054  0.024457   900.0  27.559999      1  \n",
       "42551       -4.873981 -0.015950  0.008627 -0.000016   901.0  27.430000      1  \n",
       "42552       -6.599329  0.100626 -0.096846  0.029846   902.0  27.540001      1  \n",
       "42553       -5.759534  0.013638 -0.061747 -0.025867   903.0  26.950001      1  \n",
       "42554       -5.860471 -0.000161 -0.029855 -0.002264   904.0  26.940001      1  \n",
       "42555       -7.119415  0.014260  0.015366 -0.061878   905.0  27.170000      1  \n",
       "42556       -4.392175  0.053841 -0.116416 -0.022760   906.0  27.000000      1  \n",
       "42557       -5.397806  0.038916 -0.134282 -0.045329   907.0  26.879999      1  \n",
       "42558       -4.740744  0.009885 -0.118650  0.019838   908.0  26.410000      1  \n",
       "42559       -5.891125  0.027610 -0.076446 -0.064360   909.0  26.639999      1  \n",
       "42560       -5.645438  0.030358 -0.076153  0.027566   910.0  26.719999      1  \n",
       "42561       -4.656406  0.019103 -0.042539 -0.030043   911.0  26.930000      1  \n",
       "42562       -5.777029  0.048482 -0.115371 -0.016361   912.0  26.920000      1  \n",
       "42563       -4.375726  0.063198 -0.162311 -0.027199   913.0  27.090000      1  \n",
       "42564       -5.644241  0.027414 -0.054578  0.000928   914.0  27.230000      1  \n",
       "\n",
       "[915 rows x 12 columns]"
      ]
     },
     "execution_count": 19,
     "metadata": {},
     "output_type": "execute_result"
    }
   ],
   "source": [
    "# double check to make sure that we got our temp data set to merge properly. \n",
    "# Also get a sense of how the telematics data looks like after we merge them with labels...\n",
    "# randomly pick a booking ID (e.g. 88)- what we see is a second by second telematic information for 1 trip (with bookingID 88)\n",
    "\n",
    "temp2 = temp2.sort_values(by=['bookingID','second']).reset_index(drop=True)\n",
    "temp2[temp2.bookingID==88]"
   ]
  },
  {
   "cell_type": "markdown",
   "metadata": {},
   "source": [
    "#### From the correlation matrix seems like telematics data has a very weak relationship with trips labelled as dangerous. Therefore, feature engineering will be needed to allow our machine learning models to make good predictions."
   ]
  },
  {
   "cell_type": "markdown",
   "metadata": {},
   "source": [
    "## Step 4 Feature Engineering and Selection"
   ]
  },
  {
   "cell_type": "code",
   "execution_count": 20,
   "metadata": {},
   "outputs": [
    {
     "data": {
      "text/html": [
       "<div>\n",
       "<style scoped>\n",
       "    .dataframe tbody tr th:only-of-type {\n",
       "        vertical-align: middle;\n",
       "    }\n",
       "\n",
       "    .dataframe tbody tr th {\n",
       "        vertical-align: top;\n",
       "    }\n",
       "\n",
       "    .dataframe thead th {\n",
       "        text-align: right;\n",
       "    }\n",
       "</style>\n",
       "<table border=\"1\" class=\"dataframe\">\n",
       "  <thead>\n",
       "    <tr style=\"text-align: right;\">\n",
       "      <th></th>\n",
       "      <th>bookingID</th>\n",
       "      <th>Accuracy</th>\n",
       "      <th>Bearing</th>\n",
       "      <th>acceleration_x</th>\n",
       "      <th>acceleration_y</th>\n",
       "      <th>acceleration_z</th>\n",
       "      <th>gyro_x</th>\n",
       "      <th>gyro_y</th>\n",
       "      <th>gyro_z</th>\n",
       "      <th>second</th>\n",
       "      <th>Speed</th>\n",
       "    </tr>\n",
       "  </thead>\n",
       "  <tbody>\n",
       "    <tr>\n",
       "      <th>count</th>\n",
       "      <td>1.613556e+07</td>\n",
       "      <td>1.613556e+07</td>\n",
       "      <td>1.613556e+07</td>\n",
       "      <td>1.613556e+07</td>\n",
       "      <td>1.613556e+07</td>\n",
       "      <td>1.613556e+07</td>\n",
       "      <td>1.613556e+07</td>\n",
       "      <td>1.613556e+07</td>\n",
       "      <td>1.613556e+07</td>\n",
       "      <td>1.613556e+07</td>\n",
       "      <td>1.613556e+07</td>\n",
       "    </tr>\n",
       "    <tr>\n",
       "      <th>mean</th>\n",
       "      <td>8.184819e+11</td>\n",
       "      <td>1.161035e+01</td>\n",
       "      <td>1.689684e+02</td>\n",
       "      <td>6.914529e-02</td>\n",
       "      <td>4.468976e+00</td>\n",
       "      <td>8.942974e-01</td>\n",
       "      <td>-1.710847e-03</td>\n",
       "      <td>2.800733e-04</td>\n",
       "      <td>-2.569688e-04</td>\n",
       "      <td>3.803484e+03</td>\n",
       "      <td>9.006543e+00</td>\n",
       "    </tr>\n",
       "    <tr>\n",
       "      <th>std</th>\n",
       "      <td>4.952476e+11</td>\n",
       "      <td>8.691672e+01</td>\n",
       "      <td>1.072966e+02</td>\n",
       "      <td>1.424161e+00</td>\n",
       "      <td>8.130664e+00</td>\n",
       "      <td>3.251549e+00</td>\n",
       "      <td>1.445619e-01</td>\n",
       "      <td>3.400630e-01</td>\n",
       "      <td>1.480824e-01</td>\n",
       "      <td>1.436686e+06</td>\n",
       "      <td>8.106415e+00</td>\n",
       "    </tr>\n",
       "    <tr>\n",
       "      <th>min</th>\n",
       "      <td>0.000000e+00</td>\n",
       "      <td>7.500000e-01</td>\n",
       "      <td>0.000000e+00</td>\n",
       "      <td>-7.841969e+01</td>\n",
       "      <td>-7.299412e+01</td>\n",
       "      <td>-7.844842e+01</td>\n",
       "      <td>-4.845575e+01</td>\n",
       "      <td>-7.488861e+01</td>\n",
       "      <td>-5.355445e+01</td>\n",
       "      <td>0.000000e+00</td>\n",
       "      <td>-2.000000e+00</td>\n",
       "    </tr>\n",
       "    <tr>\n",
       "      <th>25%</th>\n",
       "      <td>3.779571e+11</td>\n",
       "      <td>3.900000e+00</td>\n",
       "      <td>7.800000e+01</td>\n",
       "      <td>-5.081238e-01</td>\n",
       "      <td>-2.022476e+00</td>\n",
       "      <td>-9.316101e-01</td>\n",
       "      <td>-2.678888e-02</td>\n",
       "      <td>-2.993851e-02</td>\n",
       "      <td>-1.876500e-02</td>\n",
       "      <td>2.410000e+02</td>\n",
       "      <td>1.020000e+00</td>\n",
       "    </tr>\n",
       "    <tr>\n",
       "      <th>50%</th>\n",
       "      <td>8.074539e+11</td>\n",
       "      <td>4.250000e+00</td>\n",
       "      <td>1.688700e+02</td>\n",
       "      <td>6.137085e-02</td>\n",
       "      <td>9.081485e+00</td>\n",
       "      <td>7.757450e-01</td>\n",
       "      <td>-6.432411e-04</td>\n",
       "      <td>2.645046e-04</td>\n",
       "      <td>-3.542004e-05</td>\n",
       "      <td>5.200000e+02</td>\n",
       "      <td>7.530000e+00</td>\n",
       "    </tr>\n",
       "    <tr>\n",
       "      <th>75%</th>\n",
       "      <td>1.254130e+12</td>\n",
       "      <td>8.000000e+00</td>\n",
       "      <td>2.629840e+02</td>\n",
       "      <td>6.350620e-01</td>\n",
       "      <td>9.709778e+00</td>\n",
       "      <td>2.750938e+00</td>\n",
       "      <td>2.330639e-02</td>\n",
       "      <td>3.143085e-02</td>\n",
       "      <td>1.823425e-02</td>\n",
       "      <td>8.630000e+02</td>\n",
       "      <td>1.548000e+01</td>\n",
       "    </tr>\n",
       "    <tr>\n",
       "      <th>max</th>\n",
       "      <td>1.709397e+12</td>\n",
       "      <td>6.070101e+03</td>\n",
       "      <td>3.599995e+02</td>\n",
       "      <td>6.687346e+01</td>\n",
       "      <td>7.505589e+01</td>\n",
       "      <td>7.805576e+01</td>\n",
       "      <td>3.983975e+01</td>\n",
       "      <td>8.031496e+01</td>\n",
       "      <td>6.630078e+01</td>\n",
       "      <td>1.495797e+09</td>\n",
       "      <td>1.480186e+02</td>\n",
       "    </tr>\n",
       "  </tbody>\n",
       "</table>\n",
       "</div>"
      ],
      "text/plain": [
       "          bookingID      Accuracy       Bearing  acceleration_x  \\\n",
       "count  1.613556e+07  1.613556e+07  1.613556e+07    1.613556e+07   \n",
       "mean   8.184819e+11  1.161035e+01  1.689684e+02    6.914529e-02   \n",
       "std    4.952476e+11  8.691672e+01  1.072966e+02    1.424161e+00   \n",
       "min    0.000000e+00  7.500000e-01  0.000000e+00   -7.841969e+01   \n",
       "25%    3.779571e+11  3.900000e+00  7.800000e+01   -5.081238e-01   \n",
       "50%    8.074539e+11  4.250000e+00  1.688700e+02    6.137085e-02   \n",
       "75%    1.254130e+12  8.000000e+00  2.629840e+02    6.350620e-01   \n",
       "max    1.709397e+12  6.070101e+03  3.599995e+02    6.687346e+01   \n",
       "\n",
       "       acceleration_y  acceleration_z        gyro_x        gyro_y  \\\n",
       "count    1.613556e+07    1.613556e+07  1.613556e+07  1.613556e+07   \n",
       "mean     4.468976e+00    8.942974e-01 -1.710847e-03  2.800733e-04   \n",
       "std      8.130664e+00    3.251549e+00  1.445619e-01  3.400630e-01   \n",
       "min     -7.299412e+01   -7.844842e+01 -4.845575e+01 -7.488861e+01   \n",
       "25%     -2.022476e+00   -9.316101e-01 -2.678888e-02 -2.993851e-02   \n",
       "50%      9.081485e+00    7.757450e-01 -6.432411e-04  2.645046e-04   \n",
       "75%      9.709778e+00    2.750938e+00  2.330639e-02  3.143085e-02   \n",
       "max      7.505589e+01    7.805576e+01  3.983975e+01  8.031496e+01   \n",
       "\n",
       "             gyro_z        second         Speed  \n",
       "count  1.613556e+07  1.613556e+07  1.613556e+07  \n",
       "mean  -2.569688e-04  3.803484e+03  9.006543e+00  \n",
       "std    1.480824e-01  1.436686e+06  8.106415e+00  \n",
       "min   -5.355445e+01  0.000000e+00 -2.000000e+00  \n",
       "25%   -1.876500e-02  2.410000e+02  1.020000e+00  \n",
       "50%   -3.542004e-05  5.200000e+02  7.530000e+00  \n",
       "75%    1.823425e-02  8.630000e+02  1.548000e+01  \n",
       "max    6.630078e+01  1.495797e+09  1.480186e+02  "
      ]
     },
     "execution_count": 20,
     "metadata": {},
     "output_type": "execute_result"
    }
   ],
   "source": [
    "train.describe()"
   ]
  },
  {
   "cell_type": "markdown",
   "metadata": {},
   "source": [
    "#### Abnormal findings\n",
    "negative speed and very high speed of 148m/s which translates to 532.8km.h\n",
    "maximum accuracy of 6,070m in the dataset (which means that the vehicle could be up to 6070 meters away from what is indicated from the telematics data)\n",
    "very long trips of 1.495797e+09 seconds"
   ]
  },
  {
   "cell_type": "code",
   "execution_count": 21,
   "metadata": {},
   "outputs": [
    {
     "name": "stdout",
     "output_type": "stream",
     "text": [
      "(16135561, 11)\n",
      "(13125856, 11)\n"
     ]
    }
   ],
   "source": [
    "#Filter out telematics data with negative speeds and high speeds > 50m/s\n",
    "temp3 = train [(train ['Speed'] > 0) & (train ['Speed'] <= 50)]\n",
    "temp3.reset_index(drop=True)# Drop - Modify the DataFrame in place (do not create a new object).\n",
    "print(train.shape)\n",
    "print(temp3.shape)"
   ]
  },
  {
   "cell_type": "code",
   "execution_count": 22,
   "metadata": {},
   "outputs": [
    {
     "name": "stdout",
     "output_type": "stream",
     "text": [
      "(12705355, 11)\n"
     ]
    }
   ],
   "source": [
    "# filter our telematics data with extremely large accuracy figures > 95 percentile. Accuracy is a misnomer, larger the accuracy, the less accurate.\n",
    "temp3 = temp3.loc[(temp3.Accuracy <= np.percentile(train.Accuracy, 95))]\n",
    "print(temp3.shape)"
   ]
  },
  {
   "cell_type": "code",
   "execution_count": 23,
   "metadata": {},
   "outputs": [
    {
     "name": "stdout",
     "output_type": "stream",
     "text": [
      "(16135561, 11)\n",
      "20000\n",
      "(12705355, 11)\n",
      "19949\n"
     ]
    }
   ],
   "source": [
    "print(train.shape)\n",
    "print(len(train.bookingID.unique()))\n",
    "print(temp3.shape)\n",
    "print(len(temp3.bookingID.unique()))"
   ]
  },
  {
   "cell_type": "code",
   "execution_count": 24,
   "metadata": {},
   "outputs": [
    {
     "name": "stdout",
     "output_type": "stream",
     "text": [
      "(12705355, 11)\n"
     ]
    }
   ],
   "source": [
    "temp4 = pd.DataFrame(temp3.groupby('bookingID').second.max()) # get a list of maximum seconds for booking ID\n",
    "trips = temp4[(temp4['second'] <= 10800)] # identify trips which have max values > 10800 ~ 3 hours\n",
    "temp3 = temp3[temp3['bookingID'].isin(trips.index.values)]\n",
    "print(temp3.shape)"
   ]
  },
  {
   "cell_type": "markdown",
   "metadata": {},
   "source": [
    "#### Temp3 shape shows that there are no trips with > 3 hours after the first 2 filters were applied, so the 3rd filter had no impact. To double check using temp4.describe"
   ]
  },
  {
   "cell_type": "code",
   "execution_count": 25,
   "metadata": {
    "scrolled": true
   },
   "outputs": [
    {
     "data": {
      "text/html": [
       "<div>\n",
       "<style scoped>\n",
       "    .dataframe tbody tr th:only-of-type {\n",
       "        vertical-align: middle;\n",
       "    }\n",
       "\n",
       "    .dataframe tbody tr th {\n",
       "        vertical-align: top;\n",
       "    }\n",
       "\n",
       "    .dataframe thead th {\n",
       "        text-align: right;\n",
       "    }\n",
       "</style>\n",
       "<table border=\"1\" class=\"dataframe\">\n",
       "  <thead>\n",
       "    <tr style=\"text-align: right;\">\n",
       "      <th></th>\n",
       "      <th>second</th>\n",
       "    </tr>\n",
       "  </thead>\n",
       "  <tbody>\n",
       "    <tr>\n",
       "      <th>count</th>\n",
       "      <td>19949.000000</td>\n",
       "    </tr>\n",
       "    <tr>\n",
       "      <th>mean</th>\n",
       "      <td>908.506993</td>\n",
       "    </tr>\n",
       "    <tr>\n",
       "      <th>std</th>\n",
       "      <td>479.835371</td>\n",
       "    </tr>\n",
       "    <tr>\n",
       "      <th>min</th>\n",
       "      <td>0.000000</td>\n",
       "    </tr>\n",
       "    <tr>\n",
       "      <th>25%</th>\n",
       "      <td>554.000000</td>\n",
       "    </tr>\n",
       "    <tr>\n",
       "      <th>50%</th>\n",
       "      <td>840.000000</td>\n",
       "    </tr>\n",
       "    <tr>\n",
       "      <th>75%</th>\n",
       "      <td>1210.000000</td>\n",
       "    </tr>\n",
       "    <tr>\n",
       "      <th>max</th>\n",
       "      <td>8224.000000</td>\n",
       "    </tr>\n",
       "  </tbody>\n",
       "</table>\n",
       "</div>"
      ],
      "text/plain": [
       "             second\n",
       "count  19949.000000\n",
       "mean     908.506993\n",
       "std      479.835371\n",
       "min        0.000000\n",
       "25%      554.000000\n",
       "50%      840.000000\n",
       "75%     1210.000000\n",
       "max     8224.000000"
      ]
     },
     "execution_count": 25,
     "metadata": {},
     "output_type": "execute_result"
    }
   ],
   "source": [
    "temp4.describe()"
   ]
  },
  {
   "cell_type": "markdown",
   "metadata": {},
   "source": [
    "#### We are left with 12705355 telematics points with 19949 booking IDs"
   ]
  },
  {
   "cell_type": "markdown",
   "metadata": {},
   "source": [
    "#### Check to make sure that there are no more impossible speeds, impossible trip length and bad accuracy scores in our dataframe"
   ]
  },
  {
   "cell_type": "code",
   "execution_count": 26,
   "metadata": {},
   "outputs": [
    {
     "data": {
      "text/html": [
       "<div>\n",
       "<style scoped>\n",
       "    .dataframe tbody tr th:only-of-type {\n",
       "        vertical-align: middle;\n",
       "    }\n",
       "\n",
       "    .dataframe tbody tr th {\n",
       "        vertical-align: top;\n",
       "    }\n",
       "\n",
       "    .dataframe thead th {\n",
       "        text-align: right;\n",
       "    }\n",
       "</style>\n",
       "<table border=\"1\" class=\"dataframe\">\n",
       "  <thead>\n",
       "    <tr style=\"text-align: right;\">\n",
       "      <th></th>\n",
       "      <th>bookingID</th>\n",
       "      <th>Accuracy</th>\n",
       "      <th>Bearing</th>\n",
       "      <th>acceleration_x</th>\n",
       "      <th>acceleration_y</th>\n",
       "      <th>acceleration_z</th>\n",
       "      <th>gyro_x</th>\n",
       "      <th>gyro_y</th>\n",
       "      <th>gyro_z</th>\n",
       "      <th>second</th>\n",
       "      <th>Speed</th>\n",
       "    </tr>\n",
       "  </thead>\n",
       "  <tbody>\n",
       "    <tr>\n",
       "      <th>count</th>\n",
       "      <td>1.270536e+07</td>\n",
       "      <td>1.270536e+07</td>\n",
       "      <td>1.270536e+07</td>\n",
       "      <td>1.270536e+07</td>\n",
       "      <td>1.270536e+07</td>\n",
       "      <td>1.270536e+07</td>\n",
       "      <td>1.270536e+07</td>\n",
       "      <td>1.270536e+07</td>\n",
       "      <td>1.270536e+07</td>\n",
       "      <td>1.270536e+07</td>\n",
       "      <td>1.270536e+07</td>\n",
       "    </tr>\n",
       "    <tr>\n",
       "      <th>mean</th>\n",
       "      <td>8.175950e+11</td>\n",
       "      <td>6.307389e+00</td>\n",
       "      <td>1.796865e+02</td>\n",
       "      <td>6.404545e-02</td>\n",
       "      <td>3.931055e+00</td>\n",
       "      <td>8.151467e-01</td>\n",
       "      <td>-2.169732e-03</td>\n",
       "      <td>1.055593e-03</td>\n",
       "      <td>-2.406042e-04</td>\n",
       "      <td>6.217850e+02</td>\n",
       "      <td>1.121959e+01</td>\n",
       "    </tr>\n",
       "    <tr>\n",
       "      <th>std</th>\n",
       "      <td>4.951206e+11</td>\n",
       "      <td>3.250190e+00</td>\n",
       "      <td>1.015382e+02</td>\n",
       "      <td>1.440806e+00</td>\n",
       "      <td>8.453829e+00</td>\n",
       "      <td>3.244637e+00</td>\n",
       "      <td>1.412319e-01</td>\n",
       "      <td>3.379690e-01</td>\n",
       "      <td>1.391004e-01</td>\n",
       "      <td>4.575102e+02</td>\n",
       "      <td>7.573651e+00</td>\n",
       "    </tr>\n",
       "    <tr>\n",
       "      <th>min</th>\n",
       "      <td>0.000000e+00</td>\n",
       "      <td>7.500000e-01</td>\n",
       "      <td>0.000000e+00</td>\n",
       "      <td>-7.841969e+01</td>\n",
       "      <td>-7.299412e+01</td>\n",
       "      <td>-6.737283e+01</td>\n",
       "      <td>-3.347175e+01</td>\n",
       "      <td>-7.488861e+01</td>\n",
       "      <td>-3.746538e+01</td>\n",
       "      <td>0.000000e+00</td>\n",
       "      <td>7.569697e-27</td>\n",
       "    </tr>\n",
       "    <tr>\n",
       "      <th>25%</th>\n",
       "      <td>3.779571e+11</td>\n",
       "      <td>3.900000e+00</td>\n",
       "      <td>9.200000e+01</td>\n",
       "      <td>-5.591156e-01</td>\n",
       "      <td>-8.112933e+00</td>\n",
       "      <td>-1.052136e+00</td>\n",
       "      <td>-3.284104e-02</td>\n",
       "      <td>-3.723472e-02</td>\n",
       "      <td>-2.260201e-02</td>\n",
       "      <td>2.610000e+02</td>\n",
       "      <td>4.411169e+00</td>\n",
       "    </tr>\n",
       "    <tr>\n",
       "      <th>50%</th>\n",
       "      <td>7.988639e+11</td>\n",
       "      <td>4.658000e+00</td>\n",
       "      <td>1.790000e+02</td>\n",
       "      <td>5.288610e-02</td>\n",
       "      <td>8.948928e+00</td>\n",
       "      <td>6.967340e-01</td>\n",
       "      <td>-1.281738e-03</td>\n",
       "      <td>9.424778e-04</td>\n",
       "      <td>-1.065264e-04</td>\n",
       "      <td>5.500000e+02</td>\n",
       "      <td>1.063840e+01</td>\n",
       "    </tr>\n",
       "    <tr>\n",
       "      <th>75%</th>\n",
       "      <td>1.254130e+12</td>\n",
       "      <td>8.000000e+00</td>\n",
       "      <td>2.680000e+02</td>\n",
       "      <td>6.780140e-01</td>\n",
       "      <td>9.702502e+00</td>\n",
       "      <td>2.681506e+00</td>\n",
       "      <td>2.863271e-02</td>\n",
       "      <td>3.974129e-02</td>\n",
       "      <td>2.214325e-02</td>\n",
       "      <td>8.910000e+02</td>\n",
       "      <td>1.725517e+01</td>\n",
       "    </tr>\n",
       "    <tr>\n",
       "      <th>max</th>\n",
       "      <td>1.709397e+12</td>\n",
       "      <td>1.600000e+01</td>\n",
       "      <td>3.599995e+02</td>\n",
       "      <td>4.770832e+01</td>\n",
       "      <td>7.505589e+01</td>\n",
       "      <td>7.805576e+01</td>\n",
       "      <td>3.983975e+01</td>\n",
       "      <td>8.031496e+01</td>\n",
       "      <td>4.505986e+01</td>\n",
       "      <td>8.224000e+03</td>\n",
       "      <td>4.280735e+01</td>\n",
       "    </tr>\n",
       "  </tbody>\n",
       "</table>\n",
       "</div>"
      ],
      "text/plain": [
       "          bookingID      Accuracy       Bearing  acceleration_x  \\\n",
       "count  1.270536e+07  1.270536e+07  1.270536e+07    1.270536e+07   \n",
       "mean   8.175950e+11  6.307389e+00  1.796865e+02    6.404545e-02   \n",
       "std    4.951206e+11  3.250190e+00  1.015382e+02    1.440806e+00   \n",
       "min    0.000000e+00  7.500000e-01  0.000000e+00   -7.841969e+01   \n",
       "25%    3.779571e+11  3.900000e+00  9.200000e+01   -5.591156e-01   \n",
       "50%    7.988639e+11  4.658000e+00  1.790000e+02    5.288610e-02   \n",
       "75%    1.254130e+12  8.000000e+00  2.680000e+02    6.780140e-01   \n",
       "max    1.709397e+12  1.600000e+01  3.599995e+02    4.770832e+01   \n",
       "\n",
       "       acceleration_y  acceleration_z        gyro_x        gyro_y  \\\n",
       "count    1.270536e+07    1.270536e+07  1.270536e+07  1.270536e+07   \n",
       "mean     3.931055e+00    8.151467e-01 -2.169732e-03  1.055593e-03   \n",
       "std      8.453829e+00    3.244637e+00  1.412319e-01  3.379690e-01   \n",
       "min     -7.299412e+01   -6.737283e+01 -3.347175e+01 -7.488861e+01   \n",
       "25%     -8.112933e+00   -1.052136e+00 -3.284104e-02 -3.723472e-02   \n",
       "50%      8.948928e+00    6.967340e-01 -1.281738e-03  9.424778e-04   \n",
       "75%      9.702502e+00    2.681506e+00  2.863271e-02  3.974129e-02   \n",
       "max      7.505589e+01    7.805576e+01  3.983975e+01  8.031496e+01   \n",
       "\n",
       "             gyro_z        second         Speed  \n",
       "count  1.270536e+07  1.270536e+07  1.270536e+07  \n",
       "mean  -2.406042e-04  6.217850e+02  1.121959e+01  \n",
       "std    1.391004e-01  4.575102e+02  7.573651e+00  \n",
       "min   -3.746538e+01  0.000000e+00  7.569697e-27  \n",
       "25%   -2.260201e-02  2.610000e+02  4.411169e+00  \n",
       "50%   -1.065264e-04  5.500000e+02  1.063840e+01  \n",
       "75%    2.214325e-02  8.910000e+02  1.725517e+01  \n",
       "max    4.505986e+01  8.224000e+03  4.280735e+01  "
      ]
     },
     "execution_count": 26,
     "metadata": {},
     "output_type": "execute_result"
    }
   ],
   "source": [
    "temp3.describe()"
   ]
  },
  {
   "cell_type": "markdown",
   "metadata": {},
   "source": [
    "#### Add new variables using our limited domain knowledge"
   ]
  },
  {
   "cell_type": "code",
   "execution_count": 27,
   "metadata": {},
   "outputs": [
    {
     "data": {
      "text/plain": [
       "(12705355, 12)"
      ]
     },
     "execution_count": 27,
     "metadata": {},
     "output_type": "execute_result"
    }
   ],
   "source": [
    "temp3 ['Resultant Acceleration'] = np.sqrt ((temp3['acceleration_x'])**2 + (temp3['acceleration_y'])**2 + (temp3['acceleration_z'])**2)\n",
    "temp3.shape"
   ]
  },
  {
   "cell_type": "code",
   "execution_count": 28,
   "metadata": {},
   "outputs": [
    {
     "data": {
      "text/plain": [
       "(12705355, 13)"
      ]
     },
     "execution_count": 28,
     "metadata": {},
     "output_type": "execute_result"
    }
   ],
   "source": [
    "temp3 ['Resultant gyro'] = np.sqrt ((temp3['gyro_x'])**2 + (temp3['gyro_y'])**2 + (temp3['gyro_z'])**2)\n",
    "temp3.shape"
   ]
  },
  {
   "cell_type": "code",
   "execution_count": 29,
   "metadata": {},
   "outputs": [
    {
     "data": {
      "text/plain": [
       "(12705355, 14)"
      ]
     },
     "execution_count": 29,
     "metadata": {},
     "output_type": "execute_result"
    }
   ],
   "source": [
    "temp3 ['Resultant Acc & Gyro'] = temp3 ['Resultant Acceleration'] * temp3 ['Resultant gyro']\n",
    "temp3.shape"
   ]
  },
  {
   "cell_type": "code",
   "execution_count": 30,
   "metadata": {},
   "outputs": [
    {
     "data": {
      "text/plain": [
       "(12705355, 15)"
      ]
     },
     "execution_count": 30,
     "metadata": {},
     "output_type": "execute_result"
    }
   ],
   "source": [
    "temp3 ['harsh_yaw'] = temp3 ['gyro_x'] * temp3 ['Speed']\n",
    "temp3.shape"
   ]
  },
  {
   "cell_type": "code",
   "execution_count": 31,
   "metadata": {},
   "outputs": [
    {
     "data": {
      "text/plain": [
       "(12705355, 16)"
      ]
     },
     "execution_count": 31,
     "metadata": {},
     "output_type": "execute_result"
    }
   ],
   "source": [
    "temp3 ['harsh_pitch'] = temp3 ['gyro_z'] * temp3 ['Speed']\n",
    "temp3.shape"
   ]
  },
  {
   "cell_type": "code",
   "execution_count": 32,
   "metadata": {},
   "outputs": [
    {
     "data": {
      "text/html": [
       "<div>\n",
       "<style scoped>\n",
       "    .dataframe tbody tr th:only-of-type {\n",
       "        vertical-align: middle;\n",
       "    }\n",
       "\n",
       "    .dataframe tbody tr th {\n",
       "        vertical-align: top;\n",
       "    }\n",
       "\n",
       "    .dataframe thead th {\n",
       "        text-align: right;\n",
       "    }\n",
       "</style>\n",
       "<table border=\"1\" class=\"dataframe\">\n",
       "  <thead>\n",
       "    <tr style=\"text-align: right;\">\n",
       "      <th></th>\n",
       "      <th>bookingID</th>\n",
       "      <th>Accuracy</th>\n",
       "      <th>Bearing</th>\n",
       "      <th>acceleration_x</th>\n",
       "      <th>acceleration_y</th>\n",
       "      <th>acceleration_z</th>\n",
       "      <th>gyro_x</th>\n",
       "      <th>gyro_y</th>\n",
       "      <th>gyro_z</th>\n",
       "      <th>second</th>\n",
       "      <th>Speed</th>\n",
       "      <th>Resultant Acceleration</th>\n",
       "      <th>Resultant gyro</th>\n",
       "      <th>Resultant Acc &amp; Gyro</th>\n",
       "      <th>harsh_yaw</th>\n",
       "      <th>harsh_pitch</th>\n",
       "    </tr>\n",
       "  </thead>\n",
       "  <tbody>\n",
       "    <tr>\n",
       "      <th>1</th>\n",
       "      <td>274877907034</td>\n",
       "      <td>9.293</td>\n",
       "      <td>17.0</td>\n",
       "      <td>0.032775</td>\n",
       "      <td>8.659933</td>\n",
       "      <td>4.737300</td>\n",
       "      <td>0.024629</td>\n",
       "      <td>0.004028</td>\n",
       "      <td>-0.010858</td>\n",
       "      <td>257.0</td>\n",
       "      <td>0.190000</td>\n",
       "      <td>9.871045</td>\n",
       "      <td>0.027216</td>\n",
       "      <td>0.268653</td>\n",
       "      <td>0.004680</td>\n",
       "      <td>-0.002063</td>\n",
       "    </tr>\n",
       "    <tr>\n",
       "      <th>2</th>\n",
       "      <td>884763263056</td>\n",
       "      <td>3.000</td>\n",
       "      <td>189.0</td>\n",
       "      <td>1.139675</td>\n",
       "      <td>9.545974</td>\n",
       "      <td>1.951334</td>\n",
       "      <td>-0.006899</td>\n",
       "      <td>-0.015080</td>\n",
       "      <td>0.001122</td>\n",
       "      <td>973.0</td>\n",
       "      <td>0.667059</td>\n",
       "      <td>9.809800</td>\n",
       "      <td>0.016622</td>\n",
       "      <td>0.163054</td>\n",
       "      <td>-0.004602</td>\n",
       "      <td>0.000748</td>\n",
       "    </tr>\n",
       "    <tr>\n",
       "      <th>3</th>\n",
       "      <td>1073741824054</td>\n",
       "      <td>3.900</td>\n",
       "      <td>126.0</td>\n",
       "      <td>3.871543</td>\n",
       "      <td>10.386364</td>\n",
       "      <td>-0.136474</td>\n",
       "      <td>0.001344</td>\n",
       "      <td>-0.339601</td>\n",
       "      <td>-0.017956</td>\n",
       "      <td>902.0</td>\n",
       "      <td>7.913285</td>\n",
       "      <td>11.085307</td>\n",
       "      <td>0.340078</td>\n",
       "      <td>3.769874</td>\n",
       "      <td>0.010635</td>\n",
       "      <td>-0.142094</td>\n",
       "    </tr>\n",
       "    <tr>\n",
       "      <th>4</th>\n",
       "      <td>1056561954943</td>\n",
       "      <td>3.900</td>\n",
       "      <td>50.0</td>\n",
       "      <td>-0.112882</td>\n",
       "      <td>10.550960</td>\n",
       "      <td>-1.560110</td>\n",
       "      <td>0.130568</td>\n",
       "      <td>-0.061697</td>\n",
       "      <td>0.161530</td>\n",
       "      <td>820.0</td>\n",
       "      <td>20.419409</td>\n",
       "      <td>10.666276</td>\n",
       "      <td>0.216672</td>\n",
       "      <td>2.311080</td>\n",
       "      <td>2.666123</td>\n",
       "      <td>3.298352</td>\n",
       "    </tr>\n",
       "    <tr>\n",
       "      <th>5</th>\n",
       "      <td>1185410973787</td>\n",
       "      <td>3.900</td>\n",
       "      <td>178.0</td>\n",
       "      <td>0.805649</td>\n",
       "      <td>9.206902</td>\n",
       "      <td>2.954445</td>\n",
       "      <td>-0.057104</td>\n",
       "      <td>-0.043555</td>\n",
       "      <td>0.002334</td>\n",
       "      <td>533.0</td>\n",
       "      <td>19.250000</td>\n",
       "      <td>9.702828</td>\n",
       "      <td>0.071856</td>\n",
       "      <td>0.697207</td>\n",
       "      <td>-1.099246</td>\n",
       "      <td>0.044920</td>\n",
       "    </tr>\n",
       "  </tbody>\n",
       "</table>\n",
       "</div>"
      ],
      "text/plain": [
       "       bookingID  Accuracy  Bearing  acceleration_x  acceleration_y  \\\n",
       "1   274877907034     9.293     17.0        0.032775        8.659933   \n",
       "2   884763263056     3.000    189.0        1.139675        9.545974   \n",
       "3  1073741824054     3.900    126.0        3.871543       10.386364   \n",
       "4  1056561954943     3.900     50.0       -0.112882       10.550960   \n",
       "5  1185410973787     3.900    178.0        0.805649        9.206902   \n",
       "\n",
       "   acceleration_z    gyro_x    gyro_y    gyro_z  second      Speed  \\\n",
       "1        4.737300  0.024629  0.004028 -0.010858   257.0   0.190000   \n",
       "2        1.951334 -0.006899 -0.015080  0.001122   973.0   0.667059   \n",
       "3       -0.136474  0.001344 -0.339601 -0.017956   902.0   7.913285   \n",
       "4       -1.560110  0.130568 -0.061697  0.161530   820.0  20.419409   \n",
       "5        2.954445 -0.057104 -0.043555  0.002334   533.0  19.250000   \n",
       "\n",
       "   Resultant Acceleration  Resultant gyro  Resultant Acc & Gyro  harsh_yaw  \\\n",
       "1                9.871045        0.027216              0.268653   0.004680   \n",
       "2                9.809800        0.016622              0.163054  -0.004602   \n",
       "3               11.085307        0.340078              3.769874   0.010635   \n",
       "4               10.666276        0.216672              2.311080   2.666123   \n",
       "5                9.702828        0.071856              0.697207  -1.099246   \n",
       "\n",
       "   harsh_pitch  \n",
       "1    -0.002063  \n",
       "2     0.000748  \n",
       "3    -0.142094  \n",
       "4     3.298352  \n",
       "5     0.044920  "
      ]
     },
     "execution_count": 32,
     "metadata": {},
     "output_type": "execute_result"
    }
   ],
   "source": [
    "temp3.head(5)"
   ]
  },
  {
   "cell_type": "code",
   "execution_count": 33,
   "metadata": {},
   "outputs": [
    {
     "data": {
      "text/plain": [
       "(12705355, 10)"
      ]
     },
     "execution_count": 33,
     "metadata": {},
     "output_type": "execute_result"
    }
   ],
   "source": [
    "columns_to_drop = ['acceleration_x','acceleration_y','acceleration_z','gyro_x','gyro_y','gyro_z']\n",
    "temp3.drop(columns_to_drop, axis = 1, inplace = True)\n",
    "temp3.shape"
   ]
  },
  {
   "cell_type": "code",
   "execution_count": 34,
   "metadata": {},
   "outputs": [
    {
     "data": {
      "text/plain": [
       "(12705355, 10)"
      ]
     },
     "execution_count": 34,
     "metadata": {},
     "output_type": "execute_result"
    }
   ],
   "source": [
    "#Normalize data before further processing\n",
    "columns_to_norm = temp3.drop(['bookingID'], axis=1).columns\n",
    "temp3[columns_to_norm] = MinMaxScaler().fit_transform(temp3[columns_to_norm])\n",
    "temp3.shape"
   ]
  },
  {
   "cell_type": "markdown",
   "metadata": {},
   "source": [
    "#### we create new variables from all the existing telematics data - mean, standard deviation, minimum, maximum, sum, variance"
   ]
  },
  {
   "cell_type": "code",
   "execution_count": 35,
   "metadata": {},
   "outputs": [],
   "source": [
    "df_mean = temp3.groupby('bookingID').mean().add_prefix('mean_')\n",
    "df_std = temp3.groupby('bookingID').std().add_prefix('std_')\n",
    "df_min = temp3.groupby('bookingID').min().add_prefix('min_')\n",
    "df_max = temp3.groupby('bookingID').max().add_prefix('max_')\n",
    "df_sum = temp3.groupby('bookingID').sum().add_prefix('sum_')\n",
    "df_var = temp3.groupby('bookingID').var().add_prefix('var_')"
   ]
  },
  {
   "cell_type": "code",
   "execution_count": 36,
   "metadata": {},
   "outputs": [],
   "source": [
    "df_1 = pd.merge(df_mean, df_std, on = 'bookingID', how = 'inner')\n",
    "df_2 = pd.merge(df_min, df_max, on = 'bookingID', how = 'inner')\n",
    "df_3 = pd.merge(df_sum, df_var, on = 'bookingID', how = 'inner')\n",
    "df_4 = pd.merge(df_1, df_2, on = 'bookingID', how = 'inner')\n",
    "train_df = pd.merge(df_4, df_3, on = 'bookingID', how = 'inner')"
   ]
  },
  {
   "cell_type": "code",
   "execution_count": 37,
   "metadata": {},
   "outputs": [],
   "source": [
    "train_df = train_df.dropna() #drop any row that has a missing value."
   ]
  },
  {
   "cell_type": "code",
   "execution_count": 38,
   "metadata": {},
   "outputs": [],
   "source": [
    "train_df['Total Distance'] = train_df['mean_Speed'] * train_df['max_second']\n",
    "train_df['Velocity'] = np.sqrt( 2 * df_mean['mean_Resultant Acceleration'] * train_df['Total Distance'] )"
   ]
  },
  {
   "cell_type": "code",
   "execution_count": 39,
   "metadata": {},
   "outputs": [
    {
     "data": {
      "text/plain": [
       "(19946, 56)"
      ]
     },
     "execution_count": 39,
     "metadata": {},
     "output_type": "execute_result"
    }
   ],
   "source": [
    "train_df.shape"
   ]
  },
  {
   "cell_type": "code",
   "execution_count": 40,
   "metadata": {},
   "outputs": [
    {
     "data": {
      "text/plain": [
       "(19928, 58)"
      ]
     },
     "execution_count": 40,
     "metadata": {},
     "output_type": "execute_result"
    }
   ],
   "source": [
    "#Merge Train data with Labels, dropping telematics data without label.\n",
    "train = pd.merge(train_df, new_labels, on = 'bookingID', how = 'inner')\n",
    "train.shape"
   ]
  },
  {
   "cell_type": "code",
   "execution_count": 41,
   "metadata": {},
   "outputs": [
    {
     "data": {
      "image/png": "[encoded data removed]",
      "text/plain": [
       "<Figure size 1440x1440 with 2 Axes>"
      ]
     },
     "metadata": {
      "needs_background": "light"
     },
     "output_type": "display_data"
    }
   ],
   "source": [
    "# Check correlation between the features\n",
    "corrmat = train.corr()\n",
    "fig = plt.figure(figsize = (20, 20))\n",
    "sns.heatmap(corrmat, vmax = 0.5, square = True)\n",
    "plt.show()"
   ]
  },
  {
   "cell_type": "markdown",
   "metadata": {},
   "source": [
    "#### there seems to be a slight improvement in correlation scores between variables and the label, although they still seem low"
   ]
  },
  {
   "cell_type": "code",
   "execution_count": 42,
   "metadata": {},
   "outputs": [
    {
     "name": "stdout",
     "output_type": "stream",
     "text": [
      "<class 'pandas.core.frame.DataFrame'>\n",
      "Int64Index: 19928 entries, 0 to 19927\n",
      "Data columns (total 58 columns):\n",
      "bookingID                      19928 non-null int64\n",
      "mean_Accuracy                  19928 non-null float64\n",
      "mean_Bearing                   19928 non-null float64\n",
      "mean_second                    19928 non-null float64\n",
      "mean_Speed                     19928 non-null float64\n",
      "mean_Resultant Acceleration    19928 non-null float64\n",
      "mean_Resultant gyro            19928 non-null float64\n",
      "mean_Resultant Acc & Gyro      19928 non-null float64\n",
      "mean_harsh_yaw                 19928 non-null float64\n",
      "mean_harsh_pitch               19928 non-null float64\n",
      "std_Accuracy                   19928 non-null float64\n",
      "std_Bearing                    19928 non-null float64\n",
      "std_second                     19928 non-null float64\n",
      "std_Speed                      19928 non-null float64\n",
      "std_Resultant Acceleration     19928 non-null float64\n",
      "std_Resultant gyro             19928 non-null float64\n",
      "std_Resultant Acc & Gyro       19928 non-null float64\n",
      "std_harsh_yaw                  19928 non-null float64\n",
      "std_harsh_pitch                19928 non-null float64\n",
      "min_Accuracy                   19928 non-null float64\n",
      "min_Bearing                    19928 non-null float64\n",
      "min_second                     19928 non-null float64\n",
      "min_Speed                      19928 non-null float64\n",
      "min_Resultant Acceleration     19928 non-null float64\n",
      "min_Resultant gyro             19928 non-null float64\n",
      "min_Resultant Acc & Gyro       19928 non-null float64\n",
      "min_harsh_yaw                  19928 non-null float64\n",
      "min_harsh_pitch                19928 non-null float64\n",
      "max_Accuracy                   19928 non-null float64\n",
      "max_Bearing                    19928 non-null float64\n",
      "max_second                     19928 non-null float64\n",
      "max_Speed                      19928 non-null float64\n",
      "max_Resultant Acceleration     19928 non-null float64\n",
      "max_Resultant gyro             19928 non-null float64\n",
      "max_Resultant Acc & Gyro       19928 non-null float64\n",
      "max_harsh_yaw                  19928 non-null float64\n",
      "max_harsh_pitch                19928 non-null float64\n",
      "sum_Accuracy                   19928 non-null float64\n",
      "sum_Bearing                    19928 non-null float64\n",
      "sum_second                     19928 non-null float64\n",
      "sum_Speed                      19928 non-null float64\n",
      "sum_Resultant Acceleration     19928 non-null float64\n",
      "sum_Resultant gyro             19928 non-null float64\n",
      "sum_Resultant Acc & Gyro       19928 non-null float64\n",
      "sum_harsh_yaw                  19928 non-null float64\n",
      "sum_harsh_pitch                19928 non-null float64\n",
      "var_Accuracy                   19928 non-null float64\n",
      "var_Bearing                    19928 non-null float64\n",
      "var_second                     19928 non-null float64\n",
      "var_Speed                      19928 non-null float64\n",
      "var_Resultant Acceleration     19928 non-null float64\n",
      "var_Resultant gyro             19928 non-null float64\n",
      "var_Resultant Acc & Gyro       19928 non-null float64\n",
      "var_harsh_yaw                  19928 non-null float64\n",
      "var_harsh_pitch                19928 non-null float64\n",
      "Total Distance                 19928 non-null float64\n",
      "Velocity                       19928 non-null float64\n",
      "label                          19928 non-null int64\n",
      "dtypes: float64(56), int64(2)\n",
      "memory usage: 9.0 MB\n"
     ]
    }
   ],
   "source": [
    "#final check before regression\n",
    "train.info()"
   ]
  },
  {
   "cell_type": "markdown",
   "metadata": {},
   "source": [
    "## Step 4 : Machine Learning and Modelling"
   ]
  },
  {
   "cell_type": "markdown",
   "metadata": {},
   "source": [
    "#### We will use the following models: RandomForestClassifier, GradientBoostingClassifier, LogisticRegression, GaussianNB and XGBClassifier"
   ]
  },
  {
   "cell_type": "markdown",
   "metadata": {},
   "source": [
    "#### first, to define test and training data"
   ]
  },
  {
   "cell_type": "code",
   "execution_count": 67,
   "metadata": {},
   "outputs": [],
   "source": [
    "X = train.drop(['bookingID','label'],axis =1)\n",
    "y = train['label']\n",
    "\n",
    "X_train, X_test, y_train, y_test = train_test_split(X,y, test_size=0.3, random_state=8)"
   ]
  },
  {
   "cell_type": "code",
   "execution_count": 68,
   "metadata": {},
   "outputs": [
    {
     "name": "stdout",
     "output_type": "stream",
     "text": [
      "(13949, 56) (5979, 56)\n"
     ]
    }
   ],
   "source": [
    "print(X_train.shape, X_test.shape)"
   ]
  },
  {
   "cell_type": "code",
   "execution_count": 69,
   "metadata": {},
   "outputs": [],
   "source": [
    "rf = RandomForestClassifier(random_state=53, n_jobs=-1,n_estimators=100, max_depth=3)\n",
    "log = LogisticRegression(random_state=53,n_jobs=-1,solver='lbfgs')\n",
    "gnb = GaussianNB()\n",
    "xgbmodel = xgb.XGBClassifier (random_state=53, n_jobs=-1, learning_rate=0.05,n_estimators=100, max_depth=4)\n",
    "gbc = GradientBoostingClassifier (random_state=53,n_estimators=100,learning_rate=0.05)\n",
    "\n",
    "models = [rf,log,gnb,xgbmodel,gbc]"
   ]
  },
  {
   "cell_type": "code",
   "execution_count": 70,
   "metadata": {},
   "outputs": [
    {
     "data": {
      "text/plain": [
       "<matplotlib.legend.Legend at 0x29cb8f18da0>"
      ]
     },
     "execution_count": 70,
     "metadata": {},
     "output_type": "execute_result"
    },
    {
     "data": {
      "image/png": "[encoded data removed]",
      "text/plain": [
       "<Figure size 720x576 with 1 Axes>"
      ]
     },
     "metadata": {
      "needs_background": "light"
     },
     "output_type": "display_data"
    }
   ],
   "source": [
    "plt.figure(figsize=(10, 8))\n",
    "\n",
    "#RandomForest\n",
    "models[0].fit(X_train,y_train)\n",
    "pred1 = models[0].predict_proba(X_test)[:,1]\n",
    "y_pred1 = rf.predict(X_test)\n",
    "rf_acc = metrics.accuracy_score (y_test,y_pred1)\n",
    "rf_auc = metrics.roc_auc_score(y_test,pred1)\n",
    "fpr, tpr, _ = metrics.roc_curve(y_test, pred1)\n",
    "plt.plot(fpr, tpr, color='y', label='Random Forest ROC curve (area = %0.2f)' % rf_auc)\n",
    "\n",
    "#LogisticRegression\n",
    "models[1].fit(X_train,y_train)\n",
    "pred2 = models[1].predict_proba(X_test)[:,1]\n",
    "y_pred2 = log.predict(X_test)\n",
    "log_acc = metrics.accuracy_score (y_test,y_pred2)\n",
    "log_auc = metrics.roc_auc_score(y_test,pred2)\n",
    "fpr, tpr, _ = metrics.roc_curve(y_test, pred2)\n",
    "plt.plot(fpr, tpr, color='black', label='LogisticRegression ROC curve (area = %0.2f)' % log_auc)\n",
    "\n",
    "#GaussianNB\n",
    "models[2].fit(X_train,y_train)\n",
    "pred3 = models[2].predict_proba(X_test)[:,1]\n",
    "y_pred3 = gnb.predict(X_test)\n",
    "gnb_acc = metrics.accuracy_score (y_test,y_pred3)\n",
    "gnb_auc = metrics.roc_auc_score(y_test,pred3)\n",
    "fpr, tpr, _ = metrics.roc_curve(y_test, pred3)\n",
    "plt.plot(fpr, tpr, color='orange', label='GaussianNB ROC curve (area = %0.2f)' % gnb_auc)\n",
    "\n",
    "#XGb\n",
    "models[3].fit(X_train,y_train)\n",
    "y_pred4 = models[3].predict(X_test)\n",
    "y_prob = models[3].predict_proba(X_test)\n",
    "pred4 = y_prob[:,1]\n",
    "xgb_acc = metrics.accuracy_score (y_test,y_pred4)\n",
    "xgb_auc = metrics.roc_auc_score(y_test,pred4)\n",
    "fpr, tpr, _ = metrics.roc_curve(y_test, pred4)\n",
    "plt.plot(fpr, tpr, color='r', label='XGB ROC curve (area = %0.2f)' % xgb_auc)\n",
    "\n",
    "#GradientBoostingClassifier\n",
    "models[4].fit(X_train,y_train)\n",
    "pred5 = models[4].predict_proba(X_test)[:,1]\n",
    "y_pred5 = gbc.predict(X_test)\n",
    "gbc_acc = metrics.accuracy_score (y_test,y_pred5)\n",
    "gbc_auc = metrics.roc_auc_score(y_test,pred5)\n",
    "fpr, tpr, _ = metrics.roc_curve(y_test, pred5)\n",
    "plt.plot(fpr, tpr, color='purple', label='GradientBoostingClassifier ROC curve (area = %0.2f)' % gbc_auc)\n",
    "\n",
    "plt.plot([0, 1], [0, 1], color='g', linestyle='--')\n",
    "plt.xlim([0.0, 1.0])\n",
    "plt.ylim([0.0, 1.05])\n",
    "plt.xlabel('False Positive Rate')\n",
    "plt.ylabel('True Positive Rate')\n",
    "plt.title('Receiver operating characteristic')\n",
    "\n",
    "plt.legend(loc=0)"
   ]
  },
  {
   "cell_type": "code",
   "execution_count": 71,
   "metadata": {},
   "outputs": [
    {
     "name": "stdout",
     "output_type": "stream",
     "text": [
      "rf Model ACC \t\t\t 0.7757150025087808\n",
      "log Model ACC \t\t\t 0.7666833918715504\n",
      "gnb Model ACC \t\t\t 0.7240341194179629\n",
      "xgb Model ACC \t\t\t 0.7839103529018231\n",
      "gbc Model ACC \t\t\t 0.7845793610971734\n"
     ]
    }
   ],
   "source": [
    "print('rf Model ACC \\t\\t\\t', rf_acc)\n",
    "print('log Model ACC \\t\\t\\t', log_acc)\n",
    "print('gnb Model ACC \\t\\t\\t', gnb_acc)\n",
    "print('xgb Model ACC \\t\\t\\t', xgb_acc)\n",
    "print('gbc Model ACC \\t\\t\\t', gbc_acc)"
   ]
  },
  {
   "cell_type": "code",
   "execution_count": 72,
   "metadata": {},
   "outputs": [
    {
     "name": "stdout",
     "output_type": "stream",
     "text": [
      "rf Model AUC \t\t\t 0.6982708687785412\n",
      "log Model AUC \t\t\t 0.6952445029432021\n",
      "gnb Model AUC \t\t\t 0.6804130081612965\n",
      "xgb Model AUC \t\t\t 0.7338525081408994\n",
      "gbc Model AUC \t\t\t 0.7296925205712188\n"
     ]
    }
   ],
   "source": [
    "# rf,log,gnb,xgb,gbc\n",
    "print('rf Model AUC \\t\\t\\t', rf_auc)\n",
    "print('log Model AUC \\t\\t\\t', log_auc)\n",
    "print('gnb Model AUC \\t\\t\\t', gnb_auc)\n",
    "print('xgb Model AUC \\t\\t\\t', xgb_auc)\n",
    "print('gbc Model AUC \\t\\t\\t', gbc_auc)"
   ]
  },
  {
   "cell_type": "code",
   "execution_count": 73,
   "metadata": {},
   "outputs": [
    {
     "name": "stdout",
     "output_type": "stream",
     "text": [
      "              precision    recall  f1-score   support\n",
      "\n",
      "           0       0.79      0.98      0.87      4496\n",
      "           1       0.74      0.20      0.31      1483\n",
      "\n",
      "    accuracy                           0.78      5979\n",
      "   macro avg       0.76      0.59      0.59      5979\n",
      "weighted avg       0.78      0.78      0.73      5979\n",
      "\n"
     ]
    }
   ],
   "source": [
    "# classification Report for XGB\n",
    "print(classification_report(y_test, y_pred4))"
   ]
  },
  {
   "cell_type": "code",
   "execution_count": 74,
   "metadata": {},
   "outputs": [
    {
     "name": "stdout",
     "output_type": "stream",
     "text": [
      "              precision    recall  f1-score   support\n",
      "\n",
      "           0       0.79      0.98      0.87      4496\n",
      "           1       0.75      0.19      0.31      1483\n",
      "\n",
      "    accuracy                           0.78      5979\n",
      "   macro avg       0.77      0.59      0.59      5979\n",
      "weighted avg       0.78      0.78      0.73      5979\n",
      "\n"
     ]
    }
   ],
   "source": [
    "# classification Report for GBC\n",
    "print(classification_report(y_test, y_pred5))"
   ]
  },
  {
   "cell_type": "code",
   "execution_count": 75,
   "metadata": {},
   "outputs": [],
   "source": [
    "# Precision is the fraction of predicted positives events that are actually positive\n",
    "# Recall (also known as sensitivity) is the fraction of positives events that you predicted correctly\n",
    "# The f1 score is the harmonic mean of recall and precision, with a higher score as a better model"
   ]
  },
  {
   "cell_type": "markdown",
   "metadata": {},
   "source": [
    "#### Recall 0.19 for dangerous driving is low (i.e label = 1) which means the model performed poorly in predicting dangerous driving"
   ]
  },
  {
   "cell_type": "code",
   "execution_count": 76,
   "metadata": {},
   "outputs": [
    {
     "name": "stdout",
     "output_type": "stream",
     "text": [
      "[[4394  102]\n",
      " [1190  293]]\n"
     ]
    }
   ],
   "source": [
    "# Confusion Matrix for XGB\n",
    "print(confusion_matrix(y_test, y_pred4))"
   ]
  },
  {
   "cell_type": "code",
   "execution_count": 77,
   "metadata": {},
   "outputs": [
    {
     "name": "stdout",
     "output_type": "stream",
     "text": [
      "[[4402   94]\n",
      " [1194  289]]\n"
     ]
    }
   ],
   "source": [
    "# Confusion Matrix for GBC\n",
    "print(confusion_matrix(y_test, y_pred5))"
   ]
  },
  {
   "cell_type": "code",
   "execution_count": 78,
   "metadata": {},
   "outputs": [
    {
     "data": {
      "text/plain": [
       "0    10470\n",
       "1     3479\n",
       "Name: label, dtype: int64"
      ]
     },
     "execution_count": 78,
     "metadata": {},
     "output_type": "execute_result"
    }
   ],
   "source": [
    "y_train.value_counts()"
   ]
  },
  {
   "cell_type": "code",
   "execution_count": 79,
   "metadata": {},
   "outputs": [],
   "source": [
    "# 25% of the test data is label as dangerous driving potetntial causing an imbalance dataset (75:25)"
   ]
  },
  {
   "cell_type": "markdown",
   "metadata": {},
   "source": [
    "### SMOTE (Synthetic Minority Over-sampling Technique)"
   ]
  },
  {
   "cell_type": "code",
   "execution_count": 80,
   "metadata": {},
   "outputs": [],
   "source": [
    "smt = SMOTE()\n",
    "X_train1, y_train1 = smt.fit_sample(X_train, y_train)"
   ]
  },
  {
   "cell_type": "code",
   "execution_count": 81,
   "metadata": {},
   "outputs": [
    {
     "data": {
      "text/plain": [
       "array([10470, 10470], dtype=int64)"
      ]
     },
     "execution_count": 81,
     "metadata": {},
     "output_type": "execute_result"
    }
   ],
   "source": [
    "np.bincount(y_train1)"
   ]
  },
  {
   "cell_type": "markdown",
   "metadata": {},
   "source": [
    "#### Both categories have equal amount of records. More specifically, the minority class has been increased to the total number of majority class."
   ]
  },
  {
   "cell_type": "code",
   "execution_count": 82,
   "metadata": {},
   "outputs": [
    {
     "data": {
      "text/plain": [
       "<matplotlib.legend.Legend at 0x29cb9b3eb38>"
      ]
     },
     "execution_count": 82,
     "metadata": {},
     "output_type": "execute_result"
    },
    {
     "data": {
      "image/png": "[encoded data removed]",
      "text/plain": [
       "<Figure size 720x576 with 1 Axes>"
      ]
     },
     "metadata": {
      "needs_background": "light"
     },
     "output_type": "display_data"
    }
   ],
   "source": [
    "plt.figure(figsize=(10, 8))\n",
    "\n",
    "#GradientBoostingClassifier\n",
    "models[4].fit(X_train1,y_train1)\n",
    "pred6 = models[4].predict_proba(X_test)[:,1]\n",
    "y_pred6 = gbc.predict(X_test)\n",
    "gbc_acc2 = metrics.accuracy_score (y_test,y_pred6)\n",
    "gbc_auc2 = metrics.roc_auc_score(y_test,pred6)\n",
    "fpr, tpr, _ = metrics.roc_curve(y_test, pred6)\n",
    "plt.plot(fpr, tpr, color='purple', label='GradientBoostingClassifier ROC curve (area = %0.2f)' % gbc_auc2)\n",
    "\n",
    "plt.plot([0, 1], [0, 1], color='g', linestyle='--')\n",
    "plt.xlim([0.0, 1.0])\n",
    "plt.ylim([0.0, 1.05])\n",
    "plt.xlabel('False Positive Rate')\n",
    "plt.ylabel('True Positive Rate')\n",
    "plt.title('Receiver operating characteristic')\n",
    "\n",
    "plt.legend(loc=0)"
   ]
  },
  {
   "cell_type": "code",
   "execution_count": 90,
   "metadata": {},
   "outputs": [
    {
     "name": "stdout",
     "output_type": "stream",
     "text": [
      "gbc Model ACC \t\t\t 0.696103027262084\n",
      "gbc Model AUC \t\t\t 0.706391145917072\n"
     ]
    }
   ],
   "source": [
    "print('gbc Model ACC \\t\\t\\t', gbc_acc2)\n",
    "print('gbc Model AUC \\t\\t\\t', gbc_auc2)"
   ]
  },
  {
   "cell_type": "code",
   "execution_count": 84,
   "metadata": {},
   "outputs": [
    {
     "name": "stdout",
     "output_type": "stream",
     "text": [
      "              precision    recall  f1-score   support\n",
      "\n",
      "           0       0.83      0.75      0.79      4496\n",
      "           1       0.41      0.52      0.46      1483\n",
      "\n",
      "    accuracy                           0.70      5979\n",
      "   macro avg       0.62      0.64      0.62      5979\n",
      "weighted avg       0.72      0.70      0.71      5979\n",
      "\n"
     ]
    }
   ],
   "source": [
    "print(classification_report(y_test, y_pred6))"
   ]
  },
  {
   "cell_type": "code",
   "execution_count": 85,
   "metadata": {},
   "outputs": [
    {
     "name": "stdout",
     "output_type": "stream",
     "text": [
      "[[3391 1105]\n",
      " [ 712  771]]\n"
     ]
    }
   ],
   "source": [
    "print(confusion_matrix(y_test, y_pred6))"
   ]
  },
  {
   "cell_type": "markdown",
   "metadata": {},
   "source": [
    "### Parameter Tuning"
   ]
  },
  {
   "cell_type": "code",
   "execution_count": 86,
   "metadata": {},
   "outputs": [
    {
     "data": {
      "text/plain": [
       "<matplotlib.legend.Legend at 0x29cb943f8d0>"
      ]
     },
     "execution_count": 86,
     "metadata": {},
     "output_type": "execute_result"
    },
    {
     "data": {
      "image/png": "[encoded data removed]",
      "text/plain": [
       "<Figure size 720x576 with 1 Axes>"
      ]
     },
     "metadata": {
      "needs_background": "light"
     },
     "output_type": "display_data"
    }
   ],
   "source": [
    "#Changing setting in Algo\n",
    "xgbmodel = xgb.XGBClassifier (random_state=53, n_jobs=-1, learning_rate=0.05,n_estimators=100, max_depth=4,scale_pos_weight=3)\n",
    "\n",
    "# xgb Only # \n",
    "plt.figure(figsize=(10, 8))\n",
    "xgbmodel.fit(X_train,y_train)\n",
    "pred7 = xgbmodel.predict_proba(X_test)[:,1]\n",
    "y_pred7 = xgbmodel.predict(X_test)\n",
    "xgb_acc2 = metrics.accuracy_score(y_test,y_pred7)\n",
    "xgb_auc2 = metrics.roc_auc_score(y_test,pred7)\n",
    "\n",
    "fpr, tpr, _ = metrics.roc_curve(y_test, pred7)\n",
    "plt.plot(fpr, tpr, color='y', label='xgb ROC curve (area = %0.2f)' % xgb_auc)\n",
    "\n",
    "plt.plot([0, 1], [0, 1], color='b', linestyle='--')\n",
    "plt.xlim([0.0, 1.0])\n",
    "plt.ylim([0.0, 1.05])\n",
    "plt.xlabel('False Positive Rate')\n",
    "plt.ylabel('True Positive Rate')\n",
    "plt.title('Receiver operating characteristic')\n",
    "\n",
    "plt.legend(loc=0)"
   ]
  },
  {
   "cell_type": "code",
   "execution_count": 87,
   "metadata": {},
   "outputs": [
    {
     "name": "stdout",
     "output_type": "stream",
     "text": [
      "xgb Model ACC \t\t\t 0.68523164408764\n",
      "xgb Model AUC \t\t\t 0.7338113387070069\n"
     ]
    }
   ],
   "source": [
    "print('xgb Model ACC \\t\\t\\t', xgb_acc2)\n",
    "print('xgb Model AUC \\t\\t\\t', xgb_auc2)"
   ]
  },
  {
   "cell_type": "code",
   "execution_count": 88,
   "metadata": {},
   "outputs": [
    {
     "name": "stdout",
     "output_type": "stream",
     "text": [
      "              precision    recall  f1-score   support\n",
      "\n",
      "           0       0.85      0.71      0.77      4496\n",
      "           1       0.41      0.61      0.49      1483\n",
      "\n",
      "    accuracy                           0.69      5979\n",
      "   macro avg       0.63      0.66      0.63      5979\n",
      "weighted avg       0.74      0.69      0.70      5979\n",
      "\n"
     ]
    }
   ],
   "source": [
    "print(classification_report(y_test, y_pred7))"
   ]
  },
  {
   "cell_type": "code",
   "execution_count": 89,
   "metadata": {},
   "outputs": [
    {
     "name": "stdout",
     "output_type": "stream",
     "text": [
      "[[3190 1306]\n",
      " [ 576  907]]\n"
     ]
    }
   ],
   "source": [
    "print(confusion_matrix(y_test, y_pred7))"
   ]
  },
  {
   "cell_type": "code",
   "execution_count": null,
   "metadata": {},
   "outputs": [],
   "source": []
  },
  {
   "cell_type": "code",
   "execution_count": null,
   "metadata": {},
   "outputs": [],
   "source": []
  }
 ],
 "metadata": {
  "kernelspec": {
   "display_name": "Python 3",
   "language": "python",
   "name": "python3"
  },
  "language_info": {
   "codemirror_mode": {
    "name": "ipython",
    "version": 3
   },
   "file_extension": ".py",
   "mimetype": "text/x-python",
   "name": "python",
   "nbconvert_exporter": "python",
   "pygments_lexer": "ipython3",
   "version": "3.7.3"
  }
 },
 "nbformat": 4,
 "nbformat_minor": 2
}
